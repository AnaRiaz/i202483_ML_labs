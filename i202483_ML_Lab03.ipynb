{
 "cells": [
  {
   "cell_type": "markdown",
   "id": "cebf4eaf",
   "metadata": {},
   "source": [
    "## Task 01"
   ]
  },
  {
   "cell_type": "code",
   "execution_count": 1,
   "id": "989de727",
   "metadata": {},
   "outputs": [
    {
     "data": {
      "text/plain": [
       "array([5, 8])"
      ]
     },
     "execution_count": 1,
     "metadata": {},
     "output_type": "execute_result"
    }
   ],
   "source": [
    "import numpy as np\n",
    "import pandas as pd\n",
    "vector = np.random.randint(9,size=(2))\n",
    "vector"
   ]
  },
  {
   "cell_type": "markdown",
   "id": "5fb776e5",
   "metadata": {},
   "source": [
    "## Task 02"
   ]
  },
  {
   "cell_type": "code",
   "execution_count": 2,
   "id": "07e2c9ac",
   "metadata": {},
   "outputs": [
    {
     "data": {
      "text/plain": [
       "array([-8,  5])"
      ]
     },
     "execution_count": 2,
     "metadata": {},
     "output_type": "execute_result"
    }
   ],
   "source": [
    "orthogonal = np.array ( [ -vector[1], vector[0] ])\n",
    "orthogonal"
   ]
  },
  {
   "cell_type": "code",
   "execution_count": 3,
   "id": "81447baf",
   "metadata": {},
   "outputs": [
    {
     "name": "stdout",
     "output_type": "stream",
     "text": [
      "Dot product of vectors:  0\n"
     ]
    }
   ],
   "source": [
    "res = np.dot (vector,orthogonal)\n",
    "print(\"Dot product of vectors: \", res)"
   ]
  },
  {
   "cell_type": "code",
   "execution_count": 4,
   "id": "c12fcd57",
   "metadata": {},
   "outputs": [
    {
     "name": "stdout",
     "output_type": "stream",
     "text": [
      "Angle between vectors: 1.5707963267948966\n"
     ]
    }
   ],
   "source": [
    "print (\"Angle between vectors:\", np.arccos(0))"
   ]
  },
  {
   "cell_type": "markdown",
   "id": "dcfb89fb",
   "metadata": {},
   "source": [
    "## Task 03"
   ]
  },
  {
   "cell_type": "code",
   "execution_count": 5,
   "id": "f5fadd02",
   "metadata": {},
   "outputs": [],
   "source": [
    "#using Formulas: (vector.v / |vector|.|v| ) * v\n",
    "#using Formulas: (v.vector / |v|.|vector| ) * vector\n",
    "# dot product of a vector with ts transpose gives the magnitude of the vector hence,\n",
    "#np.dot(vector.T, vector)"
   ]
  },
  {
   "cell_type": "markdown",
   "id": "e9e13463",
   "metadata": {},
   "source": [
    "##### projection of vector on orthogonal:"
   ]
  },
  {
   "cell_type": "code",
   "execution_count": 6,
   "id": "277f8119",
   "metadata": {},
   "outputs": [],
   "source": [
    "vo = np.dot(vector.T, orthogonal) / np.dot(vector.T, vector) * vector"
   ]
  },
  {
   "cell_type": "markdown",
   "id": "b4711085",
   "metadata": {},
   "source": [
    "##### Projection of orthogonal on vector:"
   ]
  },
  {
   "cell_type": "code",
   "execution_count": 7,
   "id": "7b6f4ddc",
   "metadata": {},
   "outputs": [],
   "source": [
    "ov = np.dot(orthogonal.T,vector)/np.dot(orthogonal.T, orthogonal)*orthogonal"
   ]
  },
  {
   "cell_type": "code",
   "execution_count": 8,
   "id": "1944606e",
   "metadata": {},
   "outputs": [
    {
     "name": "stdout",
     "output_type": "stream",
     "text": [
      "Projection of vector on orthogonal:  [0. 0.]\n",
      "Projection of orthogonal on the vector:  [-0.  0.]\n"
     ]
    }
   ],
   "source": [
    "print(\"Projection of vector on orthogonal: \", vo)\n",
    "print(\"Projection of orthogonal on the vector: \", ov)"
   ]
  },
  {
   "cell_type": "markdown",
   "id": "279041a0",
   "metadata": {},
   "source": [
    "## Task 04\n"
   ]
  },
  {
   "cell_type": "markdown",
   "id": "dd946a15",
   "metadata": {},
   "source": [
    "##### Since our projection is zero, we cannot recreate the initial vectors"
   ]
  },
  {
   "cell_type": "markdown",
   "id": "52140e54",
   "metadata": {},
   "source": [
    "## Task 05\n",
    "##### Formulas : \n",
    "##### Projection of   'a'  on  'b'   =  (a.b /  ||b|| ) * b\n",
    "##### Projection of   'b'  on  'a'   =  (b.a /  ||a|| ) * a"
   ]
  },
  {
   "cell_type": "code",
   "execution_count": 151,
   "id": "bbe4a937",
   "metadata": {},
   "outputs": [
    {
     "name": "stdout",
     "output_type": "stream",
     "text": [
      "vector a:\n",
      " [[7]\n",
      " [2]]\n",
      "\n",
      "vector b:\n",
      " [[0]\n",
      " [7]]\n",
      "\n",
      "Projection of a on b:\n",
      "  [[1.8490566 ]\n",
      " [0.52830189]]\n",
      "\n",
      "Projection of b on a:\n",
      "  [[0.]\n",
      " [2.]]\n"
     ]
    }
   ],
   "source": [
    "a = np.random.randint(9, size=(2,1))\n",
    "b = np.random.randint(9, size=(2,1))\n",
    "print (\"vector a:\\n\" , a)\n",
    "print (\"\\nvector b:\\n\" , b)\n",
    "\n",
    "#Projection of a on b:\n",
    "PROJ_on_b = (np.dot(a.T,b)/np.dot(a.T,a)) * a\n",
    "PROJ_on_a = (np.dot(a.T,b)/np.dot(b.T,b)) * b\n",
    "print (\"\\nProjection of a on b:\\n \" , PROJ_on_b)\n",
    "print (\"\\nProjection of b on a:\\n \" , PROJ_on_a)\n"
   ]
  },
  {
   "cell_type": "code",
   "execution_count": 153,
   "id": "8c688f48",
   "metadata": {},
   "outputs": [
    {
     "name": "stdout",
     "output_type": "stream",
     "text": [
      "Angle between vectors:  1.5707963267948966\n"
     ]
    },
    {
     "name": "stderr",
     "output_type": "stream",
     "text": [
      "<ipython-input-153-891f2aede74f>:1: RuntimeWarning: invalid value encountered in arccos\n",
      "  ang = np.arccos(np.dot(a,b.T))\n"
     ]
    }
   ],
   "source": [
    "ang = np.arccos(np.dot(a,b.T))\n",
    "print (\"Angle between vectors: \", ang[0][0])"
   ]
  },
  {
   "cell_type": "markdown",
   "id": "b8195c92",
   "metadata": {},
   "source": [
    "## Task 06"
   ]
  },
  {
   "cell_type": "code",
   "execution_count": 139,
   "id": "0f32fce0",
   "metadata": {},
   "outputs": [
    {
     "name": "stdout",
     "output_type": "stream",
     "text": [
      "Eigenvalues of the squared matrix: \n",
      "\n",
      " [ 9.83727522 -0.25061646  0.05726033 -0.0439191 ] \n",
      "\n",
      "Eigenvectors for the squared matrix: \n",
      "\n",
      " [[-0.52955642  0.45570445 -0.10972786  0.05072119]\n",
      " [-0.49369692 -0.82342212  0.02810628 -0.02712648]\n",
      " [-0.48800707  0.32839825  0.18552805 -0.25638252]\n",
      " [-0.48752687 -0.08039939  0.97608871  0.96486243]]\n"
     ]
    }
   ],
   "source": [
    "from sklearn.datasets import load_iris\n",
    "iris = load_iris()\n",
    "iris\n",
    "x = iris.data\n",
    "x\n",
    "sqr_matrix = x[:4,]    \n",
    "Evals, Evectors = np.linalg.eig(sqr_matrix)\n",
    "print(\"Eigenvalues of the squared matrix: \\n\\n\",Evals,\"\\n\")\n",
    "print(\"Eigenvectors for the squared matrix: \\n\\n\",Evectors)"
   ]
  },
  {
   "cell_type": "markdown",
   "id": "17fd32ab",
   "metadata": {},
   "source": [
    "## Task 07"
   ]
  },
  {
   "cell_type": "code",
   "execution_count": 154,
   "id": "ed1eb8b8",
   "metadata": {},
   "outputs": [],
   "source": [
    "import pandas as pd\n",
    "import matplotlib.pyplot as plt\n",
    "from numpy import genfromtxt\n"
   ]
  },
  {
   "cell_type": "markdown",
   "id": "206d3b0f",
   "metadata": {},
   "source": [
    "#### Iris DataSet"
   ]
  },
  {
   "cell_type": "code",
   "execution_count": 155,
   "id": "8c5f80c4",
   "metadata": {},
   "outputs": [
    {
     "data": {
      "text/plain": [
       "array([[5.1, 3.5, 1.4, 0.2],\n",
       "       [4.9, 3. , 1.4, 0.2],\n",
       "       [4.7, 3.2, 1.3, 0.2],\n",
       "       [4.6, 3.1, 1.5, 0.2],\n",
       "       [5. , 3.6, 1.4, 0.2],\n",
       "       [5.4, 3.9, 1.7, 0.4],\n",
       "       [4.6, 3.4, 1.4, 0.3],\n",
       "       [5. , 3.4, 1.5, 0.2],\n",
       "       [4.4, 2.9, 1.4, 0.2],\n",
       "       [4.9, 3.1, 1.5, 0.1],\n",
       "       [5.4, 3.7, 1.5, 0.2],\n",
       "       [4.8, 3.4, 1.6, 0.2],\n",
       "       [4.8, 3. , 1.4, 0.1],\n",
       "       [4.3, 3. , 1.1, 0.1],\n",
       "       [5.8, 4. , 1.2, 0.2],\n",
       "       [5.7, 4.4, 1.5, 0.4],\n",
       "       [5.4, 3.9, 1.3, 0.4],\n",
       "       [5.1, 3.5, 1.4, 0.3],\n",
       "       [5.7, 3.8, 1.7, 0.3],\n",
       "       [5.1, 3.8, 1.5, 0.3],\n",
       "       [5.4, 3.4, 1.7, 0.2],\n",
       "       [5.1, 3.7, 1.5, 0.4],\n",
       "       [4.6, 3.6, 1. , 0.2],\n",
       "       [5.1, 3.3, 1.7, 0.5],\n",
       "       [4.8, 3.4, 1.9, 0.2],\n",
       "       [5. , 3. , 1.6, 0.2],\n",
       "       [5. , 3.4, 1.6, 0.4],\n",
       "       [5.2, 3.5, 1.5, 0.2],\n",
       "       [5.2, 3.4, 1.4, 0.2],\n",
       "       [4.7, 3.2, 1.6, 0.2],\n",
       "       [4.8, 3.1, 1.6, 0.2],\n",
       "       [5.4, 3.4, 1.5, 0.4],\n",
       "       [5.2, 4.1, 1.5, 0.1],\n",
       "       [5.5, 4.2, 1.4, 0.2],\n",
       "       [4.9, 3.1, 1.5, 0.2],\n",
       "       [5. , 3.2, 1.2, 0.2],\n",
       "       [5.5, 3.5, 1.3, 0.2],\n",
       "       [4.9, 3.6, 1.4, 0.1],\n",
       "       [4.4, 3. , 1.3, 0.2],\n",
       "       [5.1, 3.4, 1.5, 0.2],\n",
       "       [5. , 3.5, 1.3, 0.3],\n",
       "       [4.5, 2.3, 1.3, 0.3],\n",
       "       [4.4, 3.2, 1.3, 0.2],\n",
       "       [5. , 3.5, 1.6, 0.6],\n",
       "       [5.1, 3.8, 1.9, 0.4],\n",
       "       [4.8, 3. , 1.4, 0.3],\n",
       "       [5.1, 3.8, 1.6, 0.2],\n",
       "       [4.6, 3.2, 1.4, 0.2],\n",
       "       [5.3, 3.7, 1.5, 0.2],\n",
       "       [5. , 3.3, 1.4, 0.2],\n",
       "       [7. , 3.2, 4.7, 1.4],\n",
       "       [6.4, 3.2, 4.5, 1.5],\n",
       "       [6.9, 3.1, 4.9, 1.5],\n",
       "       [5.5, 2.3, 4. , 1.3],\n",
       "       [6.5, 2.8, 4.6, 1.5],\n",
       "       [5.7, 2.8, 4.5, 1.3],\n",
       "       [6.3, 3.3, 4.7, 1.6],\n",
       "       [4.9, 2.4, 3.3, 1. ],\n",
       "       [6.6, 2.9, 4.6, 1.3],\n",
       "       [5.2, 2.7, 3.9, 1.4],\n",
       "       [5. , 2. , 3.5, 1. ],\n",
       "       [5.9, 3. , 4.2, 1.5],\n",
       "       [6. , 2.2, 4. , 1. ],\n",
       "       [6.1, 2.9, 4.7, 1.4],\n",
       "       [5.6, 2.9, 3.6, 1.3],\n",
       "       [6.7, 3.1, 4.4, 1.4],\n",
       "       [5.6, 3. , 4.5, 1.5],\n",
       "       [5.8, 2.7, 4.1, 1. ],\n",
       "       [6.2, 2.2, 4.5, 1.5],\n",
       "       [5.6, 2.5, 3.9, 1.1],\n",
       "       [5.9, 3.2, 4.8, 1.8],\n",
       "       [6.1, 2.8, 4. , 1.3],\n",
       "       [6.3, 2.5, 4.9, 1.5],\n",
       "       [6.1, 2.8, 4.7, 1.2],\n",
       "       [6.4, 2.9, 4.3, 1.3],\n",
       "       [6.6, 3. , 4.4, 1.4],\n",
       "       [6.8, 2.8, 4.8, 1.4],\n",
       "       [6.7, 3. , 5. , 1.7],\n",
       "       [6. , 2.9, 4.5, 1.5],\n",
       "       [5.7, 2.6, 3.5, 1. ],\n",
       "       [5.5, 2.4, 3.8, 1.1],\n",
       "       [5.5, 2.4, 3.7, 1. ],\n",
       "       [5.8, 2.7, 3.9, 1.2],\n",
       "       [6. , 2.7, 5.1, 1.6],\n",
       "       [5.4, 3. , 4.5, 1.5],\n",
       "       [6. , 3.4, 4.5, 1.6],\n",
       "       [6.7, 3.1, 4.7, 1.5],\n",
       "       [6.3, 2.3, 4.4, 1.3],\n",
       "       [5.6, 3. , 4.1, 1.3],\n",
       "       [5.5, 2.5, 4. , 1.3],\n",
       "       [5.5, 2.6, 4.4, 1.2],\n",
       "       [6.1, 3. , 4.6, 1.4],\n",
       "       [5.8, 2.6, 4. , 1.2],\n",
       "       [5. , 2.3, 3.3, 1. ],\n",
       "       [5.6, 2.7, 4.2, 1.3],\n",
       "       [5.7, 3. , 4.2, 1.2],\n",
       "       [5.7, 2.9, 4.2, 1.3],\n",
       "       [6.2, 2.9, 4.3, 1.3],\n",
       "       [5.1, 2.5, 3. , 1.1],\n",
       "       [5.7, 2.8, 4.1, 1.3],\n",
       "       [6.3, 3.3, 6. , 2.5],\n",
       "       [5.8, 2.7, 5.1, 1.9],\n",
       "       [7.1, 3. , 5.9, 2.1],\n",
       "       [6.3, 2.9, 5.6, 1.8],\n",
       "       [6.5, 3. , 5.8, 2.2],\n",
       "       [7.6, 3. , 6.6, 2.1],\n",
       "       [4.9, 2.5, 4.5, 1.7],\n",
       "       [7.3, 2.9, 6.3, 1.8],\n",
       "       [6.7, 2.5, 5.8, 1.8],\n",
       "       [7.2, 3.6, 6.1, 2.5],\n",
       "       [6.5, 3.2, 5.1, 2. ],\n",
       "       [6.4, 2.7, 5.3, 1.9],\n",
       "       [6.8, 3. , 5.5, 2.1],\n",
       "       [5.7, 2.5, 5. , 2. ],\n",
       "       [5.8, 2.8, 5.1, 2.4],\n",
       "       [6.4, 3.2, 5.3, 2.3],\n",
       "       [6.5, 3. , 5.5, 1.8],\n",
       "       [7.7, 3.8, 6.7, 2.2],\n",
       "       [7.7, 2.6, 6.9, 2.3],\n",
       "       [6. , 2.2, 5. , 1.5],\n",
       "       [6.9, 3.2, 5.7, 2.3],\n",
       "       [5.6, 2.8, 4.9, 2. ],\n",
       "       [7.7, 2.8, 6.7, 2. ],\n",
       "       [6.3, 2.7, 4.9, 1.8],\n",
       "       [6.7, 3.3, 5.7, 2.1],\n",
       "       [7.2, 3.2, 6. , 1.8],\n",
       "       [6.2, 2.8, 4.8, 1.8],\n",
       "       [6.1, 3. , 4.9, 1.8],\n",
       "       [6.4, 2.8, 5.6, 2.1],\n",
       "       [7.2, 3. , 5.8, 1.6],\n",
       "       [7.4, 2.8, 6.1, 1.9],\n",
       "       [7.9, 3.8, 6.4, 2. ],\n",
       "       [6.4, 2.8, 5.6, 2.2],\n",
       "       [6.3, 2.8, 5.1, 1.5],\n",
       "       [6.1, 2.6, 5.6, 1.4],\n",
       "       [7.7, 3. , 6.1, 2.3],\n",
       "       [6.3, 3.4, 5.6, 2.4],\n",
       "       [6.4, 3.1, 5.5, 1.8],\n",
       "       [6. , 3. , 4.8, 1.8],\n",
       "       [6.9, 3.1, 5.4, 2.1],\n",
       "       [6.7, 3.1, 5.6, 2.4],\n",
       "       [6.9, 3.1, 5.1, 2.3],\n",
       "       [5.8, 2.7, 5.1, 1.9],\n",
       "       [6.8, 3.2, 5.9, 2.3],\n",
       "       [6.7, 3.3, 5.7, 2.5],\n",
       "       [6.7, 3. , 5.2, 2.3],\n",
       "       [6.3, 2.5, 5. , 1.9],\n",
       "       [6.5, 3. , 5.2, 2. ],\n",
       "       [6.2, 3.4, 5.4, 2.3],\n",
       "       [5.9, 3. , 5.1, 1.8]])"
      ]
     },
     "execution_count": 155,
     "metadata": {},
     "output_type": "execute_result"
    }
   ],
   "source": [
    "x"
   ]
  },
  {
   "cell_type": "code",
   "execution_count": 156,
   "id": "1962173d",
   "metadata": {},
   "outputs": [
    {
     "name": "stdout",
     "output_type": "stream",
     "text": [
      "(150, 4)\n",
      "[[-7.43333333e-01  4.42666667e-01 -2.35800000e+00 -9.99333333e-01]\n",
      " [-9.43333333e-01 -5.73333333e-02 -2.35800000e+00 -9.99333333e-01]\n",
      " [-1.14333333e+00  1.42666667e-01 -2.45800000e+00 -9.99333333e-01]\n",
      " [-1.24333333e+00  4.26666667e-02 -2.25800000e+00 -9.99333333e-01]\n",
      " [-8.43333333e-01  5.42666667e-01 -2.35800000e+00 -9.99333333e-01]\n",
      " [-4.43333333e-01  8.42666667e-01 -2.05800000e+00 -7.99333333e-01]\n",
      " [-1.24333333e+00  3.42666667e-01 -2.35800000e+00 -8.99333333e-01]\n",
      " [-8.43333333e-01  3.42666667e-01 -2.25800000e+00 -9.99333333e-01]\n",
      " [-1.44333333e+00 -1.57333333e-01 -2.35800000e+00 -9.99333333e-01]\n",
      " [-9.43333333e-01  4.26666667e-02 -2.25800000e+00 -1.09933333e+00]\n",
      " [-4.43333333e-01  6.42666667e-01 -2.25800000e+00 -9.99333333e-01]\n",
      " [-1.04333333e+00  3.42666667e-01 -2.15800000e+00 -9.99333333e-01]\n",
      " [-1.04333333e+00 -5.73333333e-02 -2.35800000e+00 -1.09933333e+00]\n",
      " [-1.54333333e+00 -5.73333333e-02 -2.65800000e+00 -1.09933333e+00]\n",
      " [-4.33333333e-02  9.42666667e-01 -2.55800000e+00 -9.99333333e-01]\n",
      " [-1.43333333e-01  1.34266667e+00 -2.25800000e+00 -7.99333333e-01]\n",
      " [-4.43333333e-01  8.42666667e-01 -2.45800000e+00 -7.99333333e-01]\n",
      " [-7.43333333e-01  4.42666667e-01 -2.35800000e+00 -8.99333333e-01]\n",
      " [-1.43333333e-01  7.42666667e-01 -2.05800000e+00 -8.99333333e-01]\n",
      " [-7.43333333e-01  7.42666667e-01 -2.25800000e+00 -8.99333333e-01]\n",
      " [-4.43333333e-01  3.42666667e-01 -2.05800000e+00 -9.99333333e-01]\n",
      " [-7.43333333e-01  6.42666667e-01 -2.25800000e+00 -7.99333333e-01]\n",
      " [-1.24333333e+00  5.42666667e-01 -2.75800000e+00 -9.99333333e-01]\n",
      " [-7.43333333e-01  2.42666667e-01 -2.05800000e+00 -6.99333333e-01]\n",
      " [-1.04333333e+00  3.42666667e-01 -1.85800000e+00 -9.99333333e-01]\n",
      " [-8.43333333e-01 -5.73333333e-02 -2.15800000e+00 -9.99333333e-01]\n",
      " [-8.43333333e-01  3.42666667e-01 -2.15800000e+00 -7.99333333e-01]\n",
      " [-6.43333333e-01  4.42666667e-01 -2.25800000e+00 -9.99333333e-01]\n",
      " [-6.43333333e-01  3.42666667e-01 -2.35800000e+00 -9.99333333e-01]\n",
      " [-1.14333333e+00  1.42666667e-01 -2.15800000e+00 -9.99333333e-01]\n",
      " [-1.04333333e+00  4.26666667e-02 -2.15800000e+00 -9.99333333e-01]\n",
      " [-4.43333333e-01  3.42666667e-01 -2.25800000e+00 -7.99333333e-01]\n",
      " [-6.43333333e-01  1.04266667e+00 -2.25800000e+00 -1.09933333e+00]\n",
      " [-3.43333333e-01  1.14266667e+00 -2.35800000e+00 -9.99333333e-01]\n",
      " [-9.43333333e-01  4.26666667e-02 -2.25800000e+00 -9.99333333e-01]\n",
      " [-8.43333333e-01  1.42666667e-01 -2.55800000e+00 -9.99333333e-01]\n",
      " [-3.43333333e-01  4.42666667e-01 -2.45800000e+00 -9.99333333e-01]\n",
      " [-9.43333333e-01  5.42666667e-01 -2.35800000e+00 -1.09933333e+00]\n",
      " [-1.44333333e+00 -5.73333333e-02 -2.45800000e+00 -9.99333333e-01]\n",
      " [-7.43333333e-01  3.42666667e-01 -2.25800000e+00 -9.99333333e-01]\n",
      " [-8.43333333e-01  4.42666667e-01 -2.45800000e+00 -8.99333333e-01]\n",
      " [-1.34333333e+00 -7.57333333e-01 -2.45800000e+00 -8.99333333e-01]\n",
      " [-1.44333333e+00  1.42666667e-01 -2.45800000e+00 -9.99333333e-01]\n",
      " [-8.43333333e-01  4.42666667e-01 -2.15800000e+00 -5.99333333e-01]\n",
      " [-7.43333333e-01  7.42666667e-01 -1.85800000e+00 -7.99333333e-01]\n",
      " [-1.04333333e+00 -5.73333333e-02 -2.35800000e+00 -8.99333333e-01]\n",
      " [-7.43333333e-01  7.42666667e-01 -2.15800000e+00 -9.99333333e-01]\n",
      " [-1.24333333e+00  1.42666667e-01 -2.35800000e+00 -9.99333333e-01]\n",
      " [-5.43333333e-01  6.42666667e-01 -2.25800000e+00 -9.99333333e-01]\n",
      " [-8.43333333e-01  2.42666667e-01 -2.35800000e+00 -9.99333333e-01]\n",
      " [ 1.15666667e+00  1.42666667e-01  9.42000000e-01  2.00666667e-01]\n",
      " [ 5.56666667e-01  1.42666667e-01  7.42000000e-01  3.00666667e-01]\n",
      " [ 1.05666667e+00  4.26666667e-02  1.14200000e+00  3.00666667e-01]\n",
      " [-3.43333333e-01 -7.57333333e-01  2.42000000e-01  1.00666667e-01]\n",
      " [ 6.56666667e-01 -2.57333333e-01  8.42000000e-01  3.00666667e-01]\n",
      " [-1.43333333e-01 -2.57333333e-01  7.42000000e-01  1.00666667e-01]\n",
      " [ 4.56666667e-01  2.42666667e-01  9.42000000e-01  4.00666667e-01]\n",
      " [-9.43333333e-01 -6.57333333e-01 -4.58000000e-01 -1.99333333e-01]\n",
      " [ 7.56666667e-01 -1.57333333e-01  8.42000000e-01  1.00666667e-01]\n",
      " [-6.43333333e-01 -3.57333333e-01  1.42000000e-01  2.00666667e-01]\n",
      " [-8.43333333e-01 -1.05733333e+00 -2.58000000e-01 -1.99333333e-01]\n",
      " [ 5.66666667e-02 -5.73333333e-02  4.42000000e-01  3.00666667e-01]\n",
      " [ 1.56666667e-01 -8.57333333e-01  2.42000000e-01 -1.99333333e-01]\n",
      " [ 2.56666667e-01 -1.57333333e-01  9.42000000e-01  2.00666667e-01]\n",
      " [-2.43333333e-01 -1.57333333e-01 -1.58000000e-01  1.00666667e-01]\n",
      " [ 8.56666667e-01  4.26666667e-02  6.42000000e-01  2.00666667e-01]\n",
      " [-2.43333333e-01 -5.73333333e-02  7.42000000e-01  3.00666667e-01]\n",
      " [-4.33333333e-02 -3.57333333e-01  3.42000000e-01 -1.99333333e-01]\n",
      " [ 3.56666667e-01 -8.57333333e-01  7.42000000e-01  3.00666667e-01]\n",
      " [-2.43333333e-01 -5.57333333e-01  1.42000000e-01 -9.93333333e-02]\n",
      " [ 5.66666667e-02  1.42666667e-01  1.04200000e+00  6.00666667e-01]\n",
      " [ 2.56666667e-01 -2.57333333e-01  2.42000000e-01  1.00666667e-01]\n",
      " [ 4.56666667e-01 -5.57333333e-01  1.14200000e+00  3.00666667e-01]\n",
      " [ 2.56666667e-01 -2.57333333e-01  9.42000000e-01  6.66666667e-04]\n",
      " [ 5.56666667e-01 -1.57333333e-01  5.42000000e-01  1.00666667e-01]\n",
      " [ 7.56666667e-01 -5.73333333e-02  6.42000000e-01  2.00666667e-01]\n",
      " [ 9.56666667e-01 -2.57333333e-01  1.04200000e+00  2.00666667e-01]\n",
      " [ 8.56666667e-01 -5.73333333e-02  1.24200000e+00  5.00666667e-01]\n",
      " [ 1.56666667e-01 -1.57333333e-01  7.42000000e-01  3.00666667e-01]\n",
      " [-1.43333333e-01 -4.57333333e-01 -2.58000000e-01 -1.99333333e-01]\n",
      " [-3.43333333e-01 -6.57333333e-01  4.20000000e-02 -9.93333333e-02]\n",
      " [-3.43333333e-01 -6.57333333e-01 -5.80000000e-02 -1.99333333e-01]\n",
      " [-4.33333333e-02 -3.57333333e-01  1.42000000e-01  6.66666667e-04]\n",
      " [ 1.56666667e-01 -3.57333333e-01  1.34200000e+00  4.00666667e-01]\n",
      " [-4.43333333e-01 -5.73333333e-02  7.42000000e-01  3.00666667e-01]\n",
      " [ 1.56666667e-01  3.42666667e-01  7.42000000e-01  4.00666667e-01]\n",
      " [ 8.56666667e-01  4.26666667e-02  9.42000000e-01  3.00666667e-01]\n",
      " [ 4.56666667e-01 -7.57333333e-01  6.42000000e-01  1.00666667e-01]\n",
      " [-2.43333333e-01 -5.73333333e-02  3.42000000e-01  1.00666667e-01]\n",
      " [-3.43333333e-01 -5.57333333e-01  2.42000000e-01  1.00666667e-01]\n",
      " [-3.43333333e-01 -4.57333333e-01  6.42000000e-01  6.66666667e-04]\n",
      " [ 2.56666667e-01 -5.73333333e-02  8.42000000e-01  2.00666667e-01]\n",
      " [-4.33333333e-02 -4.57333333e-01  2.42000000e-01  6.66666667e-04]\n",
      " [-8.43333333e-01 -7.57333333e-01 -4.58000000e-01 -1.99333333e-01]\n",
      " [-2.43333333e-01 -3.57333333e-01  4.42000000e-01  1.00666667e-01]\n",
      " [-1.43333333e-01 -5.73333333e-02  4.42000000e-01  6.66666667e-04]\n",
      " [-1.43333333e-01 -1.57333333e-01  4.42000000e-01  1.00666667e-01]\n",
      " [ 3.56666667e-01 -1.57333333e-01  5.42000000e-01  1.00666667e-01]\n",
      " [-7.43333333e-01 -5.57333333e-01 -7.58000000e-01 -9.93333333e-02]\n",
      " [-1.43333333e-01 -2.57333333e-01  3.42000000e-01  1.00666667e-01]\n",
      " [ 4.56666667e-01  2.42666667e-01  2.24200000e+00  1.30066667e+00]\n",
      " [-4.33333333e-02 -3.57333333e-01  1.34200000e+00  7.00666667e-01]\n",
      " [ 1.25666667e+00 -5.73333333e-02  2.14200000e+00  9.00666667e-01]\n",
      " [ 4.56666667e-01 -1.57333333e-01  1.84200000e+00  6.00666667e-01]\n",
      " [ 6.56666667e-01 -5.73333333e-02  2.04200000e+00  1.00066667e+00]\n",
      " [ 1.75666667e+00 -5.73333333e-02  2.84200000e+00  9.00666667e-01]\n",
      " [-9.43333333e-01 -5.57333333e-01  7.42000000e-01  5.00666667e-01]\n",
      " [ 1.45666667e+00 -1.57333333e-01  2.54200000e+00  6.00666667e-01]\n",
      " [ 8.56666667e-01 -5.57333333e-01  2.04200000e+00  6.00666667e-01]\n",
      " [ 1.35666667e+00  5.42666667e-01  2.34200000e+00  1.30066667e+00]\n",
      " [ 6.56666667e-01  1.42666667e-01  1.34200000e+00  8.00666667e-01]\n",
      " [ 5.56666667e-01 -3.57333333e-01  1.54200000e+00  7.00666667e-01]\n",
      " [ 9.56666667e-01 -5.73333333e-02  1.74200000e+00  9.00666667e-01]\n",
      " [-1.43333333e-01 -5.57333333e-01  1.24200000e+00  8.00666667e-01]\n",
      " [-4.33333333e-02 -2.57333333e-01  1.34200000e+00  1.20066667e+00]\n",
      " [ 5.56666667e-01  1.42666667e-01  1.54200000e+00  1.10066667e+00]\n",
      " [ 6.56666667e-01 -5.73333333e-02  1.74200000e+00  6.00666667e-01]\n",
      " [ 1.85666667e+00  7.42666667e-01  2.94200000e+00  1.00066667e+00]\n",
      " [ 1.85666667e+00 -4.57333333e-01  3.14200000e+00  1.10066667e+00]\n",
      " [ 1.56666667e-01 -8.57333333e-01  1.24200000e+00  3.00666667e-01]\n",
      " [ 1.05666667e+00  1.42666667e-01  1.94200000e+00  1.10066667e+00]\n",
      " [-2.43333333e-01 -2.57333333e-01  1.14200000e+00  8.00666667e-01]\n",
      " [ 1.85666667e+00 -2.57333333e-01  2.94200000e+00  8.00666667e-01]\n",
      " [ 4.56666667e-01 -3.57333333e-01  1.14200000e+00  6.00666667e-01]\n",
      " [ 8.56666667e-01  2.42666667e-01  1.94200000e+00  9.00666667e-01]\n",
      " [ 1.35666667e+00  1.42666667e-01  2.24200000e+00  6.00666667e-01]\n",
      " [ 3.56666667e-01 -2.57333333e-01  1.04200000e+00  6.00666667e-01]\n",
      " [ 2.56666667e-01 -5.73333333e-02  1.14200000e+00  6.00666667e-01]\n",
      " [ 5.56666667e-01 -2.57333333e-01  1.84200000e+00  9.00666667e-01]\n",
      " [ 1.35666667e+00 -5.73333333e-02  2.04200000e+00  4.00666667e-01]\n",
      " [ 1.55666667e+00 -2.57333333e-01  2.34200000e+00  7.00666667e-01]\n",
      " [ 2.05666667e+00  7.42666667e-01  2.64200000e+00  8.00666667e-01]\n",
      " [ 5.56666667e-01 -2.57333333e-01  1.84200000e+00  1.00066667e+00]\n",
      " [ 4.56666667e-01 -2.57333333e-01  1.34200000e+00  3.00666667e-01]\n",
      " [ 2.56666667e-01 -4.57333333e-01  1.84200000e+00  2.00666667e-01]\n",
      " [ 1.85666667e+00 -5.73333333e-02  2.34200000e+00  1.10066667e+00]\n",
      " [ 4.56666667e-01  3.42666667e-01  1.84200000e+00  1.20066667e+00]\n",
      " [ 5.56666667e-01  4.26666667e-02  1.74200000e+00  6.00666667e-01]\n",
      " [ 1.56666667e-01 -5.73333333e-02  1.04200000e+00  6.00666667e-01]\n",
      " [ 1.05666667e+00  4.26666667e-02  1.64200000e+00  9.00666667e-01]\n",
      " [ 8.56666667e-01  4.26666667e-02  1.84200000e+00  1.20066667e+00]\n",
      " [ 1.05666667e+00  4.26666667e-02  1.34200000e+00  1.10066667e+00]\n",
      " [-4.33333333e-02 -3.57333333e-01  1.34200000e+00  7.00666667e-01]\n",
      " [ 9.56666667e-01  1.42666667e-01  2.14200000e+00  1.10066667e+00]\n",
      " [ 8.56666667e-01  2.42666667e-01  1.94200000e+00  1.30066667e+00]\n",
      " [ 8.56666667e-01 -5.73333333e-02  1.44200000e+00  1.10066667e+00]\n",
      " [ 4.56666667e-01 -5.57333333e-01  1.24200000e+00  7.00666667e-01]\n",
      " [ 6.56666667e-01 -5.73333333e-02  1.44200000e+00  8.00666667e-01]\n",
      " [ 3.56666667e-01  3.42666667e-01  1.64200000e+00  1.10066667e+00]\n",
      " [ 5.66666667e-02 -5.73333333e-02  1.34200000e+00  6.00666667e-01]]\n"
     ]
    }
   ],
   "source": [
    "m1 = np.mean(x,axis = 0)\n",
    "ones1 = np.ones(x.shape)\n",
    "print(ones1.shape)\n",
    "mean1 = m1 * ones1\n",
    "Z1 = x - mean1\n",
    "print(Z1)"
   ]
  },
  {
   "cell_type": "code",
   "execution_count": 157,
   "id": "abdeb965",
   "metadata": {},
   "outputs": [
    {
     "name": "stdout",
     "output_type": "stream",
     "text": [
      "(100, 97)\n"
     ]
    }
   ],
   "source": [
    "print (Z2.shape)"
   ]
  },
  {
   "cell_type": "code",
   "execution_count": 158,
   "id": "3ff87440",
   "metadata": {},
   "outputs": [
    {
     "data": {
      "image/png": "[encoded data removed]",
      "text/plain": [
       "<Figure size 432x288 with 1 Axes>"
      ]
     },
     "metadata": {
      "needs_background": "light"
     },
     "output_type": "display_data"
    },
    {
     "data": {
      "image/png": "[encoded data removed]",
      "text/plain": [
       "<Figure size 432x288 with 1 Axes>"
      ]
     },
     "metadata": {
      "needs_background": "light"
     },
     "output_type": "display_data"
    }
   ],
   "source": [
    "plt.title(\"Original values\")\n",
    "plt.scatter(x,mean1)\n",
    "plt.show()\n",
    "plt.title(\"After centralization\")\n",
    "plt.scatter(Z1,mean1)\n",
    "plt.show()\n"
   ]
  },
  {
   "cell_type": "markdown",
   "id": "6dd4604d",
   "metadata": {},
   "source": [
    "## Task 08"
   ]
  },
  {
   "cell_type": "markdown",
   "id": "59190e2f",
   "metadata": {},
   "source": [
    "#### ECG_TRAIN dataset"
   ]
  },
  {
   "cell_type": "code",
   "execution_count": 159,
   "id": "246d28ba",
   "metadata": {},
   "outputs": [],
   "source": [
    "ecg = np.genfromtxt (\"ECG200_TRAIN.csv\", delimiter='  ')  \n",
    "ecg.shape\n",
    "m2 = np.mean(ecg,axis=0)\n",
    "ones2 = np.ones(ecg.shape)\n",
    "mean2 = m2 * ones2\n",
    "Z2 = ecg - mean2\n"
   ]
  },
  {
   "cell_type": "code",
   "execution_count": 160,
   "id": "8f11908a",
   "metadata": {},
   "outputs": [
    {
     "data": {
      "image/png": "[encoded data removed]",
      "text/plain": [
       "<Figure size 432x288 with 1 Axes>"
      ]
     },
     "metadata": {
      "needs_background": "light"
     },
     "output_type": "display_data"
    },
    {
     "data": {
      "image/png": "[encoded data removed]",
      "text/plain": [
       "<Figure size 432x288 with 1 Axes>"
      ]
     },
     "metadata": {
      "needs_background": "light"
     },
     "output_type": "display_data"
    }
   ],
   "source": [
    "plt.title(\"Before\")\n",
    "plt.scatter(ecg,mean2)\n",
    "plt.show()\n",
    "plt.title(\"After\")\n",
    "plt.scatter(Z2,mean2)\n",
    "plt.show()"
   ]
  },
  {
   "cell_type": "markdown",
   "id": "600b3509",
   "metadata": {},
   "source": [
    "##### The End"
   ]
  }
 ],
 "metadata": {
  "kernelspec": {
   "display_name": "Python 3",
   "language": "python",
   "name": "python3"
  },
  "language_info": {
   "codemirror_mode": {
    "name": "ipython",
    "version": 3
   },
   "file_extension": ".py",
   "mimetype": "text/x-python",
   "name": "python",
   "nbconvert_exporter": "python",
   "pygments_lexer": "ipython3",
   "version": "3.8.8"
  }
 },
 "nbformat": 4,
 "nbformat_minor": 5
}
