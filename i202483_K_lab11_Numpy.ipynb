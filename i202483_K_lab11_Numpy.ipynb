{
 "cells": [
  {
   "cell_type": "markdown",
   "metadata": {},
   "source": [
    "### Numpy Exercise\n",
    "In this exercise, we will be working with a dataset with the information of baseball players. Here is the code to read the dataset and convert it into lists."
   ]
  },
  {
   "cell_type": "code",
   "execution_count": 78,
   "metadata": {},
   "outputs": [
    {
     "name": "stdout",
     "output_type": "stream",
     "text": [
      "Populating the interactive namespace from numpy and matplotlib\n"
     ]
    },
    {
     "name": "stderr",
     "output_type": "stream",
     "text": [
      "C:\\Users\\admin\\anaconda3\\lib\\site-packages\\IPython\\core\\magics\\pylab.py:159: UserWarning: pylab import has clobbered these variables: ['transpose', 're', 'product']\n",
      "`%matplotlib` prevents importing * from pylab and numpy\n",
      "  warn(\"pylab import has clobbered these variables: %s\"  % clobbered +\n"
     ]
    }
   ],
   "source": [
    "%pylab inline"
   ]
  },
  {
   "cell_type": "code",
   "execution_count": 79,
   "metadata": {},
   "outputs": [],
   "source": [
    "import pandas as pd"
   ]
  },
  {
   "cell_type": "code",
   "execution_count": 80,
   "metadata": {},
   "outputs": [],
   "source": [
    "bbdata=pd.read_csv('C:\\\\Users\\\\admin\\\\Downloads\\\\ML\\\\baseball.csv')\n",
    "height=list(bbdata['height'])\n",
    "weight=list(bbdata['weights'])"
   ]
  },
  {
   "cell_type": "code",
   "execution_count": 81,
   "metadata": {},
   "outputs": [
    {
     "data": {
      "text/html": [
       "<div>\n",
       "<style scoped>\n",
       "    .dataframe tbody tr th:only-of-type {\n",
       "        vertical-align: middle;\n",
       "    }\n",
       "\n",
       "    .dataframe tbody tr th {\n",
       "        vertical-align: top;\n",
       "    }\n",
       "\n",
       "    .dataframe thead th {\n",
       "        text-align: right;\n",
       "    }\n",
       "</style>\n",
       "<table border=\"1\" class=\"dataframe\">\n",
       "  <thead>\n",
       "    <tr style=\"text-align: right;\">\n",
       "      <th></th>\n",
       "      <th>Name</th>\n",
       "      <th>Team</th>\n",
       "      <th>Position</th>\n",
       "      <th>height</th>\n",
       "      <th>weights</th>\n",
       "      <th>Age</th>\n",
       "    </tr>\n",
       "  </thead>\n",
       "  <tbody>\n",
       "    <tr>\n",
       "      <th>0</th>\n",
       "      <td>Adam_Donachie</td>\n",
       "      <td>BAL</td>\n",
       "      <td>Catcher</td>\n",
       "      <td>74</td>\n",
       "      <td>180.0</td>\n",
       "      <td>22.99</td>\n",
       "    </tr>\n",
       "    <tr>\n",
       "      <th>1</th>\n",
       "      <td>Paul_Bako</td>\n",
       "      <td>BAL</td>\n",
       "      <td>Catcher</td>\n",
       "      <td>74</td>\n",
       "      <td>215.0</td>\n",
       "      <td>34.69</td>\n",
       "    </tr>\n",
       "    <tr>\n",
       "      <th>2</th>\n",
       "      <td>Ramon_Hernandez</td>\n",
       "      <td>BAL</td>\n",
       "      <td>Catcher</td>\n",
       "      <td>72</td>\n",
       "      <td>210.0</td>\n",
       "      <td>30.78</td>\n",
       "    </tr>\n",
       "    <tr>\n",
       "      <th>3</th>\n",
       "      <td>Kevin_Millar</td>\n",
       "      <td>BAL</td>\n",
       "      <td>First_Baseman</td>\n",
       "      <td>72</td>\n",
       "      <td>210.0</td>\n",
       "      <td>35.43</td>\n",
       "    </tr>\n",
       "    <tr>\n",
       "      <th>4</th>\n",
       "      <td>Chris_Gomez</td>\n",
       "      <td>BAL</td>\n",
       "      <td>First_Baseman</td>\n",
       "      <td>73</td>\n",
       "      <td>188.0</td>\n",
       "      <td>35.71</td>\n",
       "    </tr>\n",
       "  </tbody>\n",
       "</table>\n",
       "</div>"
      ],
      "text/plain": [
       "             Name  Team       Position   height  weights   Age \n",
       "0    Adam_Donachie   BAL        Catcher      74    180.0  22.99\n",
       "1        Paul_Bako   BAL        Catcher      74    215.0  34.69\n",
       "2  Ramon_Hernandez   BAL        Catcher      72    210.0  30.78\n",
       "3     Kevin_Millar   BAL  First_Baseman      72    210.0  35.43\n",
       "4      Chris_Gomez   BAL  First_Baseman      73    188.0  35.71"
      ]
     },
     "execution_count": 81,
     "metadata": {},
     "output_type": "execute_result"
    }
   ],
   "source": [
    "bbdata.head()"
   ]
  },
  {
   "cell_type": "code",
   "execution_count": 82,
   "metadata": {},
   "outputs": [
    {
     "data": {
      "text/plain": [
       "<matplotlib.collections.PathCollection at 0x1fe0beda370>"
      ]
     },
     "execution_count": 82,
     "metadata": {},
     "output_type": "execute_result"
    },
    {
     "data": {
      "image/png": "[encoded data removed]",
      "text/plain": [
       "<Figure size 640x480 with 1 Axes>"
      ]
     },
     "metadata": {},
     "output_type": "display_data"
    }
   ],
   "source": [
    "plt.scatter(height,weight)"
   ]
  },
  {
   "cell_type": "markdown",
   "metadata": {},
   "source": [
    "### Real Work begins\n",
    "We have height and weidths as lists now, you task is to convert them into numpy arrays and then acheive the following insights.\n",
    "The units are height in inches, weight in Kgs"
   ]
  },
  {
   "cell_type": "code",
   "execution_count": 83,
   "metadata": {},
   "outputs": [
    {
     "name": "stdout",
     "output_type": "stream",
     "text": [
      "Height:  [74 74 72 ... 75 75 73]\n",
      "weight aray:  [180. 215. 210. ... 205. 190. 195.]\n"
     ]
    }
   ],
   "source": [
    "# height is available as a regular list\n",
    "\n",
    "# Import numpy\n",
    "import numpy as np\n",
    "\n",
    "# Create a Numpy array from height: np_height\n",
    "np_height = np.array(height)\n",
    "\n",
    "# Print out np_height\n",
    "print('Height: ', np_height)\n",
    "\n",
    "\n",
    "# Create array from weight with correct units: np_weight_kg \n",
    "np_weight_kg =  np.array(weight)\n",
    "\n",
    "# print the array np_weight_kg\n",
    "print (\"weight aray: \", np_weight_kg)"
   ]
  },
  {
   "cell_type": "markdown",
   "metadata": {},
   "source": [
    "* 1 meter = 39.3701 inches"
   ]
  },
  {
   "cell_type": "code",
   "execution_count": 84,
   "metadata": {},
   "outputs": [
    {
     "name": "stdout",
     "output_type": "stream",
     "text": [
      "Height in meters:\n",
      " [1.87959899 1.87959899 1.82879901 ... 1.90499897 1.90499897 1.854199  ]\n"
     ]
    }
   ],
   "source": [
    "# Convert np_height to meters: np_height_m\n",
    "np_height_m = np.divide(np_height, 39.3701)\n",
    "# Print np_height_m\n",
    "print (\"Height in meters:\\n\",np_height_m)\n"
   ]
  },
  {
   "cell_type": "markdown",
   "metadata": {},
   "source": [
    "- BMI=weight(kg)/(height (in m)**2)"
   ]
  },
  {
   "cell_type": "code",
   "execution_count": 85,
   "metadata": {},
   "outputs": [
    {
     "name": "stdout",
     "output_type": "stream",
     "text": [
      "BMI:\n",
      " [50.94975517 60.85665201 62.78954524 ... 56.48906288 52.35571681\n",
      " 56.71813303]\n"
     ]
    }
   ],
   "source": [
    "# Calculate the BMI: bmi\n",
    "p = np_height_m**2\n",
    "bmi = np.divide(np_weight_kg,p)\n",
    "\n",
    "# Print out bmi\n",
    "print (\"BMI:\\n\", bmi )"
   ]
  },
  {
   "cell_type": "markdown",
   "metadata": {},
   "source": [
    "Create a boolean Numpy array: the element of the array should be True if the corresponding baseball player's BMI is below 21. You can use the < operator for this. Name the array light.\n",
    "Print the array light.\n",
    "Print out a Numpy array with the BMIs of all baseball players whose BMI is below 21. Use light inside square brackets to do a selection on the bmi array.\n"
   ]
  },
  {
   "cell_type": "code",
   "execution_count": 86,
   "metadata": {},
   "outputs": [
    {
     "name": "stdout",
     "output_type": "stream",
     "text": [
      "[False False False ... False False False]\n"
     ]
    }
   ],
   "source": [
    "light = (bmi<21)\n",
    "print (light)"
   ]
  },
  {
   "cell_type": "code",
   "execution_count": 87,
   "metadata": {},
   "outputs": [
    {
     "name": "stdout",
     "output_type": "stream",
     "text": [
      "[[180.   78.4]\n",
      " [215.  102.7]\n",
      " [210.   98.5]\n",
      " [188.   75.2]]\n",
      "\n",
      "Type:  float64\n",
      "Shape:  (4, 2)\n"
     ]
    }
   ],
   "source": [
    "# Create baseball, a list of lists\n",
    "baseball = [[180, 78.4],\n",
    "            [215, 102.7],\n",
    "            [210, 98.5],\n",
    "            [188, 75.2]]\n",
    "\n",
    "# Import numpy\n",
    "import numpy \n",
    "# Create a 2D Numpy array from baseball: np_baseball\n",
    "np_baseball = np.array(baseball)\n",
    "print(np_baseball)\n",
    "# Print out the type of np_baseball\n",
    "print (\"\\nType: \", np_baseball.dtype)\n",
    "\n",
    "# Print out the shape of np_baseball\n",
    "print (\"Shape: \", np_baseball.shape)"
   ]
  },
  {
   "cell_type": "code",
   "execution_count": 88,
   "metadata": {},
   "outputs": [
    {
     "name": "stdout",
     "output_type": "stream",
     "text": [
      "[[ 74. 180.]\n",
      " [ 74. 215.]\n",
      " [ 72. 210.]\n",
      " ...\n",
      " [ 75. 205.]\n",
      " [ 75. 190.]\n",
      " [ 73. 195.]]\n"
     ]
    },
    {
     "data": {
      "text/plain": [
       "(1034, 2)"
      ]
     },
     "execution_count": 88,
     "metadata": {},
     "output_type": "execute_result"
    }
   ],
   "source": [
    "# Create a 2D Numpy array named np_baseball from the lists of weight and height\n",
    "np_2d_baseball = list(zip(height, weight))\n",
    "np_2d_baseball = np.array(np_2d_baseball)\n",
    "print (np_2d_baseball)\n",
    "# Print out the shape of np_baseball\n",
    "np_2d_baseball.shape\n"
   ]
  },
  {
   "cell_type": "markdown",
   "metadata": {},
   "source": [
    "- If you want to convert the units of height and weight. As a first step, create a Numpy array with two values: 0.0254, 0.453592. Name this array conversion.\n",
    "Multiply np_baseball with conversion and print out the result."
   ]
  },
  {
   "cell_type": "code",
   "execution_count": 89,
   "metadata": {},
   "outputs": [
    {
     "name": "stdout",
     "output_type": "stream",
     "text": [
      "[[ 1.8796  81.64656]\n",
      " [ 1.8796  97.52228]\n",
      " [ 1.8288  95.25432]\n",
      " ...\n",
      " [ 1.905   92.98636]\n",
      " [ 1.905   86.18248]\n",
      " [ 1.8542  88.45044]]\n"
     ]
    }
   ],
   "source": [
    "conversion =[0.0254,0.453592]\n",
    "product = np_2d_baseball*conversion\n",
    "print(product)"
   ]
  },
  {
   "cell_type": "markdown",
   "metadata": {},
   "source": [
    "### Now it's time for some statistics"
   ]
  },
  {
   "cell_type": "code",
   "execution_count": 90,
   "metadata": {},
   "outputs": [
    {
     "name": "stdout",
     "output_type": "stream",
     "text": [
      "73.6972920696325\n",
      "74.0\n",
      "Median :  74.0\n",
      "Standard Deviation :  2.304703041620148\n",
      "Correlation:  [390686.81562912]\n"
     ]
    }
   ],
   "source": [
    "# Print out the mean of np_height\n",
    "mean_height = np.mean(np_height)\n",
    "print (mean_height)\n",
    "\n",
    "# Print out the median of np_height\n",
    "median_height = np.median(np_height)\n",
    "print(median_height)\n",
    "\n",
    "# Print median height. Replace 'None'\n",
    "print(\"Median : \", median_height)\n",
    "\n",
    "\n",
    "# Print out the standard deviation on height. Replace 'None'\n",
    "print(\"Standard Deviation : \",np.std(np_height) )\n",
    "\n",
    "# Print out correlation between first and second column. Replace 'None'\n",
    "np_height_m = np.nan_to_num(np_height_m, nan = 0.0)\n",
    "np_weight_kg = np.nan_to_num(np_weight_kg, nan = 0.0)\n",
    "print(\"Correlation: \", np.correlate(np_height_m,np_weight_kg))"
   ]
  },
  {
   "cell_type": "code",
   "execution_count": 91,
   "metadata": {},
   "outputs": [
    {
     "name": "stdout",
     "output_type": "stream",
     "text": [
      "Index of player with max height:  928\n"
     ]
    }
   ],
   "source": [
    "# Print the index of player with maximum height\n",
    "player_maxheight = np.argmax(np_height)\n",
    "print(\"Index of player with max height: \", player_maxheight)"
   ]
  },
  {
   "cell_type": "code",
   "execution_count": 92,
   "metadata": {},
   "outputs": [
    {
     "name": "stdout",
     "output_type": "stream",
     "text": [
      "[1.8288     1.8288     1.82879901 ... 1.8288     1.8288     1.8288    ]\n"
     ]
    }
   ],
   "source": [
    "#Replace all the players height greater than 6 Feet with 6 Feet\n",
    "# six_i_meters = 1.8288\n",
    "np_height_m[np_height_m > 1.8288] = 1.8288\n",
    "print(np_height_m)"
   ]
  },
  {
   "cell_type": "code",
   "execution_count": 93,
   "metadata": {},
   "outputs": [
    {
     "data": {
      "text/plain": [
       "1033"
      ]
     },
     "execution_count": 93,
     "metadata": {},
     "output_type": "execute_result"
    }
   ],
   "source": [
    "#Count number of players with weight greater than 75 kg..\n",
    "n = (np_weight_kg > 75).sum()\n",
    "n"
   ]
  },
  {
   "cell_type": "code",
   "execution_count": 94,
   "metadata": {},
   "outputs": [
    {
     "name": "stdout",
     "output_type": "stream",
     "text": [
      "Sorted height:  [1008 1007  972 ...  406  390 1033]\n"
     ]
    }
   ],
   "source": [
    "# Sort the height, and get the sorting index as well\n",
    "np_height_m = np.argsort(np_height_m)\n",
    "print(\"Sorted height: \", np_height_m)"
   ]
  },
  {
   "cell_type": "code",
   "execution_count": 95,
   "metadata": {},
   "outputs": [
    {
     "name": "stdout",
     "output_type": "stream",
     "text": [
      "[[ 74.  74.  72. ...  75.  75.  73.]\n",
      " [180. 215. 210. ... 205. 190. 195.]]\n",
      "[[ 74. 180.]\n",
      " [ 74. 215.]\n",
      " [ 72. 210.]\n",
      " ...\n",
      " [ 75. 205.]\n",
      " [ 75. 190.]\n",
      " [ 73. 195.]]\n"
     ]
    }
   ],
   "source": [
    "#Reshape the 2 x Number of Players array to Number of Players x 2\n",
    "t1 = np_2d_baseball.T\n",
    "print(t1)\n",
    "t11 = t1.T\n",
    "print(t11)"
   ]
  },
  {
   "cell_type": "code",
   "execution_count": 96,
   "metadata": {},
   "outputs": [
    {
     "data": {
      "text/plain": [
       "<matplotlib.collections.PathCollection at 0x1fe0bf49700>"
      ]
     },
     "execution_count": 96,
     "metadata": {},
     "output_type": "execute_result"
    },
    {
     "data": {
      "image/png": "[encoded data removed]",
      "text/plain": [
       "<Figure size 640x480 with 1 Axes>"
      ]
     },
     "metadata": {},
     "output_type": "display_data"
    }
   ],
   "source": [
    "#Generate Scatter Plot, See plt.scatter, use height as one axis and weight as second axis\n",
    "plt.scatter(height,weight)\n"
   ]
  },
  {
   "cell_type": "code",
   "execution_count": 97,
   "metadata": {},
   "outputs": [
    {
     "data": {
      "image/png": "[encoded data removed]",
      "text/plain": [
       "<Figure size 640x480 with 1 Axes>"
      ]
     },
     "metadata": {},
     "output_type": "display_data"
    }
   ],
   "source": [
    "#Now choose a random player, and project player height and weight to this random player, you can plot\n",
    "# the vector using plt.arrow function\n",
    "a = np.random.randint(0,1000)\n",
    "plt.xlabel(\"Height\")\n",
    "plt.ylabel(\"Weight\")\n",
    "plt.plot(height,weight)\n",
    "plt.arrow(60, 150, height[a],weight[a], width = 1.5)\n",
    "plt.show()"
   ]
  },
  {
   "cell_type": "markdown",
   "metadata": {},
   "source": [
    "#### Advanced Operations"
   ]
  },
  {
   "cell_type": "markdown",
   "metadata": {},
   "source": [
    "1. Construct an array from the list: [1,2,3]\n",
    "2. Cast it into floats\n",
    "3. Create an array of int ranging from 0-10 \n",
    "4. Create an array containing 7 evenly spaced numbers between 0 and 23\n",
    "5. Create an array with shape (2,5,1,5,2,1) containing only the number 5\n",
    "6. Eliminate all length-1 dimensions. See the function squeeze.\n",
    "7. Reshape the resulting array from shape (2,5,3,2) to only 2D\n",
    "8. Calculate the mean, std, var, max, min, of an array with shape (3,3,12,3) containing floats drawn\n",
    "from a normal distribution with mean 21 and sigma 4.5. see the np.random.normal.\n",
    "9. Do the same but not on all elements but only on the 2nd dimension. \n",
    "10. Transform the array such that it is only 1d. See the function Flatten or ravel\n",
    "11. Remove all values smaller 15 and larger 26.\n",
    "12. Clip all values smaller 15 and larger 26 to NaN. See the function Clip\n",
    "13. Calculate the sum of the resulting array. It should not be NaN!.\n",
    "14. Convert the NaN’s to 0.0. See Where\n",
    "15. Save the array and load it again."
   ]
  },
  {
   "cell_type": "code",
   "execution_count": 98,
   "metadata": {},
   "outputs": [
    {
     "name": "stdout",
     "output_type": "stream",
     "text": [
      "[1 2 3]\n"
     ]
    }
   ],
   "source": [
    "# 1\n",
    "list1 = [1,2,3]\n",
    "arr = np.array(list1)\n",
    "print(arr)"
   ]
  },
  {
   "cell_type": "code",
   "execution_count": 99,
   "metadata": {},
   "outputs": [
    {
     "name": "stdout",
     "output_type": "stream",
     "text": [
      "[1. 2. 3.]\n"
     ]
    }
   ],
   "source": [
    "# 2\n",
    "float_arr= arr.astype('float')\n",
    "print(float_arr)"
   ]
  },
  {
   "cell_type": "code",
   "execution_count": 115,
   "metadata": {},
   "outputs": [
    {
     "data": {
      "text/plain": [
       "array([0, 1, 2, 3, 4, 5, 6, 7, 8, 9])"
      ]
     },
     "execution_count": 115,
     "metadata": {},
     "output_type": "execute_result"
    }
   ],
   "source": [
    "# 3\n",
    "np.arange(0,10)"
   ]
  },
  {
   "cell_type": "code",
   "execution_count": null,
   "metadata": {},
   "outputs": [],
   "source": [
    "# 4\n",
    "\n",
    "np.arange(0,23,4,dtype=int)"
   ]
  },
  {
   "cell_type": "code",
   "execution_count": 116,
   "metadata": {},
   "outputs": [
    {
     "data": {
      "text/plain": [
       "array([[[[[[5],\n",
       "           [5]],\n",
       "\n",
       "          [[5],\n",
       "           [5]],\n",
       "\n",
       "          [[5],\n",
       "           [5]],\n",
       "\n",
       "          [[5],\n",
       "           [5]],\n",
       "\n",
       "          [[5],\n",
       "           [5]]]],\n",
       "\n",
       "\n",
       "\n",
       "        [[[[5],\n",
       "           [5]],\n",
       "\n",
       "          [[5],\n",
       "           [5]],\n",
       "\n",
       "          [[5],\n",
       "           [5]],\n",
       "\n",
       "          [[5],\n",
       "           [5]],\n",
       "\n",
       "          [[5],\n",
       "           [5]]]],\n",
       "\n",
       "\n",
       "\n",
       "        [[[[5],\n",
       "           [5]],\n",
       "\n",
       "          [[5],\n",
       "           [5]],\n",
       "\n",
       "          [[5],\n",
       "           [5]],\n",
       "\n",
       "          [[5],\n",
       "           [5]],\n",
       "\n",
       "          [[5],\n",
       "           [5]]]],\n",
       "\n",
       "\n",
       "\n",
       "        [[[[5],\n",
       "           [5]],\n",
       "\n",
       "          [[5],\n",
       "           [5]],\n",
       "\n",
       "          [[5],\n",
       "           [5]],\n",
       "\n",
       "          [[5],\n",
       "           [5]],\n",
       "\n",
       "          [[5],\n",
       "           [5]]]],\n",
       "\n",
       "\n",
       "\n",
       "        [[[[5],\n",
       "           [5]],\n",
       "\n",
       "          [[5],\n",
       "           [5]],\n",
       "\n",
       "          [[5],\n",
       "           [5]],\n",
       "\n",
       "          [[5],\n",
       "           [5]],\n",
       "\n",
       "          [[5],\n",
       "           [5]]]]],\n",
       "\n",
       "\n",
       "\n",
       "\n",
       "       [[[[[5],\n",
       "           [5]],\n",
       "\n",
       "          [[5],\n",
       "           [5]],\n",
       "\n",
       "          [[5],\n",
       "           [5]],\n",
       "\n",
       "          [[5],\n",
       "           [5]],\n",
       "\n",
       "          [[5],\n",
       "           [5]]]],\n",
       "\n",
       "\n",
       "\n",
       "        [[[[5],\n",
       "           [5]],\n",
       "\n",
       "          [[5],\n",
       "           [5]],\n",
       "\n",
       "          [[5],\n",
       "           [5]],\n",
       "\n",
       "          [[5],\n",
       "           [5]],\n",
       "\n",
       "          [[5],\n",
       "           [5]]]],\n",
       "\n",
       "\n",
       "\n",
       "        [[[[5],\n",
       "           [5]],\n",
       "\n",
       "          [[5],\n",
       "           [5]],\n",
       "\n",
       "          [[5],\n",
       "           [5]],\n",
       "\n",
       "          [[5],\n",
       "           [5]],\n",
       "\n",
       "          [[5],\n",
       "           [5]]]],\n",
       "\n",
       "\n",
       "\n",
       "        [[[[5],\n",
       "           [5]],\n",
       "\n",
       "          [[5],\n",
       "           [5]],\n",
       "\n",
       "          [[5],\n",
       "           [5]],\n",
       "\n",
       "          [[5],\n",
       "           [5]],\n",
       "\n",
       "          [[5],\n",
       "           [5]]]],\n",
       "\n",
       "\n",
       "\n",
       "        [[[[5],\n",
       "           [5]],\n",
       "\n",
       "          [[5],\n",
       "           [5]],\n",
       "\n",
       "          [[5],\n",
       "           [5]],\n",
       "\n",
       "          [[5],\n",
       "           [5]],\n",
       "\n",
       "          [[5],\n",
       "           [5]]]]]])"
      ]
     },
     "execution_count": 116,
     "metadata": {},
     "output_type": "execute_result"
    }
   ],
   "source": [
    "# 5\n",
    "np.full((2, 5,1,5,2,1), 5)"
   ]
  },
  {
   "cell_type": "code",
   "execution_count": 117,
   "metadata": {},
   "outputs": [
    {
     "name": "stdout",
     "output_type": "stream",
     "text": [
      "[[[[5 5]\n",
      "   [5 5]\n",
      "   [5 5]\n",
      "   [5 5]\n",
      "   [5 5]]\n",
      "\n",
      "  [[5 5]\n",
      "   [5 5]\n",
      "   [5 5]\n",
      "   [5 5]\n",
      "   [5 5]]\n",
      "\n",
      "  [[5 5]\n",
      "   [5 5]\n",
      "   [5 5]\n",
      "   [5 5]\n",
      "   [5 5]]\n",
      "\n",
      "  [[5 5]\n",
      "   [5 5]\n",
      "   [5 5]\n",
      "   [5 5]\n",
      "   [5 5]]\n",
      "\n",
      "  [[5 5]\n",
      "   [5 5]\n",
      "   [5 5]\n",
      "   [5 5]\n",
      "   [5 5]]]\n",
      "\n",
      "\n",
      " [[[5 5]\n",
      "   [5 5]\n",
      "   [5 5]\n",
      "   [5 5]\n",
      "   [5 5]]\n",
      "\n",
      "  [[5 5]\n",
      "   [5 5]\n",
      "   [5 5]\n",
      "   [5 5]\n",
      "   [5 5]]\n",
      "\n",
      "  [[5 5]\n",
      "   [5 5]\n",
      "   [5 5]\n",
      "   [5 5]\n",
      "   [5 5]]\n",
      "\n",
      "  [[5 5]\n",
      "   [5 5]\n",
      "   [5 5]\n",
      "   [5 5]\n",
      "   [5 5]]\n",
      "\n",
      "  [[5 5]\n",
      "   [5 5]\n",
      "   [5 5]\n",
      "   [5 5]\n",
      "   [5 5]]]]\n"
     ]
    }
   ],
   "source": [
    "# 6\n",
    "x = len(np.full((2, 5,1,5,2,1), 5))-1\n",
    "y= np.squeeze(np.full((2, 5,1,5,2,1), 5))\n",
    "print(y)"
   ]
  },
  {
   "cell_type": "code",
   "execution_count": 118,
   "metadata": {},
   "outputs": [
    {
     "data": {
      "text/plain": [
       "array([[5, 5, 5, 5, 5, 5, 5, 5, 5, 5, 5, 5, 5, 5, 5, 5, 5, 5, 5, 5, 5, 5,\n",
       "        5, 5, 5, 5, 5, 5, 5, 5, 5, 5, 5, 5, 5, 5, 5, 5, 5, 5, 5, 5, 5, 5,\n",
       "        5, 5, 5, 5, 5, 5],\n",
       "       [5, 5, 5, 5, 5, 5, 5, 5, 5, 5, 5, 5, 5, 5, 5, 5, 5, 5, 5, 5, 5, 5,\n",
       "        5, 5, 5, 5, 5, 5, 5, 5, 5, 5, 5, 5, 5, 5, 5, 5, 5, 5, 5, 5, 5, 5,\n",
       "        5, 5, 5, 5, 5, 5]])"
      ]
     },
     "execution_count": 118,
     "metadata": {},
     "output_type": "execute_result"
    }
   ],
   "source": [
    "# 7\n",
    "re_y = np.reshape(y,(2,-1))\n",
    "re_y"
   ]
  },
  {
   "cell_type": "code",
   "execution_count": 119,
   "metadata": {},
   "outputs": [
    {
     "name": "stdout",
     "output_type": "stream",
     "text": [
      "Mean:  20.8651094168564\n",
      "Median:  20.88819865442158\n",
      "Standard Deviation:  4.4649523755456535\n",
      "Max:  36.84744569590317\n",
      "Min:  7.571504322615052\n"
     ]
    }
   ],
   "source": [
    "#8 -> (3,3,12,3) , mean 21 and sigma 4.5\n",
    "u = 21\n",
    "s = 4.5\n",
    "norm = np.random.normal(u,s,(3,3,12,3))\n",
    "print(\"Mean: \",np.mean(norm))\n",
    "print(\"Median: \", np.median(norm))\n",
    "print(\"Standard Deviation: \",np.std(norm))\n",
    "print(\"Max: \",np.max(norm))\n",
    "print(\"Min: \", np.min(norm))\n"
   ]
  },
  {
   "cell_type": "code",
   "execution_count": 120,
   "metadata": {},
   "outputs": [
    {
     "name": "stdout",
     "output_type": "stream",
     "text": [
      "[[[20.91775426 21.60903218 17.48199751]\n",
      "  [19.91331008 20.30779329 21.0417147 ]\n",
      "  [24.87541619 19.55439234 11.90074627]\n",
      "  [18.531663   26.62740517 15.62786365]\n",
      "  [26.78444593 22.8202423  21.50171635]\n",
      "  [21.20811141 18.94186952 36.8474457 ]\n",
      "  [19.59622555 13.55392364 20.54262449]\n",
      "  [15.993827   13.00605053 17.67104568]\n",
      "  [19.41190933 26.68394755 22.78923143]\n",
      "  [21.95014711 15.62661735 16.23858769]\n",
      "  [21.23077639 22.70770713 22.39580888]\n",
      "  [16.69350499 24.87775966 20.35251246]]\n",
      "\n",
      " [[19.02744273 17.36070812 24.0581244 ]\n",
      "  [18.16752283 18.9979899  24.81506534]\n",
      "  [22.97915726 26.16249345 18.68586878]\n",
      "  [26.0577817  22.38766751 15.14233832]\n",
      "  [19.6728268  25.14289759 23.54987842]\n",
      "  [21.60729393 24.77181547 19.83368122]\n",
      "  [22.83780056 19.72516823 22.45325622]\n",
      "  [25.72035893 22.23600808 20.03136764]\n",
      "  [23.72527596 15.40250705 22.83130732]\n",
      "  [22.11089023 17.98796943 19.77601495]\n",
      "  [21.5589045  22.8459938  22.33095624]\n",
      "  [14.72289405 21.33397607 15.12116375]]\n",
      "\n",
      " [[22.23956675 24.64422823 21.42589661]\n",
      "  [22.79104264 15.31795716 15.44431227]\n",
      "  [26.02882085 25.57850849 19.33353666]\n",
      "  [18.63729714 22.95932806 18.23618118]\n",
      "  [20.21839349 20.48705439 22.24663081]\n",
      "  [17.68190122 17.39716494 13.19003495]\n",
      "  [ 8.27309142 22.1266411  12.40370904]\n",
      "  [20.49093509 17.43333168 26.62388482]\n",
      "  [16.98809652 23.39788358 19.52591318]\n",
      "  [20.49240817 28.78512407 24.2313464 ]\n",
      "  [17.74031391 25.10259854 20.16485752]\n",
      "  [19.81887876 16.59973464 18.36734362]]]\n",
      "Mean:  20.568624457171204\n",
      "Median:  20.491671625666584\n",
      "Standard Deviation:  4.043373950219631\n",
      "Max:  36.84744569590317\n",
      "Min:  8.273091417099074\n"
     ]
    }
   ],
   "source": [
    "#9\n",
    "norm_2d = norm[1]\n",
    "print(norm_2d)\n",
    "print(\"Mean: \",np.mean(norm_2d))\n",
    "print(\"Median: \", np.median(norm_2d))\n",
    "print(\"Standard Deviation: \", np.std(norm_2d))\n",
    "print(\"Max: \",np.max(norm_2d))\n",
    "print(\"Min: \", np.min(norm_2d))\n"
   ]
  },
  {
   "cell_type": "code",
   "execution_count": 121,
   "metadata": {},
   "outputs": [
    {
     "name": "stdout",
     "output_type": "stream",
     "text": [
      "[22.42868191 14.43784319 16.71990106 23.82245634 14.51004473 21.76360099\n",
      " 20.02045606 17.92416618 16.42096307 23.82217058 18.6529764  24.83851912\n",
      " 23.35329211 19.29354151 23.44936695 21.74847338 21.84806209 25.88653521\n",
      " 32.91262178 26.85495619 23.25069685 25.81096949 25.27571802 20.26286815\n",
      " 18.07332547 25.87627935 21.5053492  22.75430529 21.65823285 20.37614333\n",
      " 11.60806194 28.21922266 16.94295411 21.04926057 16.85247782 18.42468852\n",
      " 16.19438333 15.839831   13.75759489 15.21133995 14.44980029 22.48683905\n",
      " 20.2803798  17.59427803 26.92596047 24.45163496 23.26781644 18.81686785\n",
      " 10.18228422 23.46914467 13.36894137 25.16152409 20.16523884 28.19812583\n",
      " 26.67305456 26.79162292 15.75183245 21.90875748 26.04563021 19.3131455\n",
      " 26.33725471 25.59891869 17.8464247  18.63395232 16.46921528 11.7730746\n",
      " 17.93479071 21.37711044 24.06156117 15.65930905 17.65444857 15.3988907\n",
      " 24.53235411 20.61544212 16.6278126  18.25654703 22.4582727  18.26542716\n",
      " 21.2064803  22.30491011 27.47989058 23.49742194 14.07588379 24.05630286\n",
      " 18.23005543 23.27742905 15.89375381 16.77087875 17.23036713 25.23106965\n",
      " 11.97506839 17.93227357 19.05593664 29.63549642 20.01552032 20.66280056\n",
      " 20.0288771  25.87839057 22.70202115 22.19325747 23.49383476 23.52540241\n",
      " 25.05680336 22.09035604 25.4218073  27.37435816 23.88978884 19.43674322\n",
      " 20.91775426 21.60903218 17.48199751 19.91331008 20.30779329 21.0417147\n",
      " 24.87541619 19.55439234 11.90074627 18.531663   26.62740517 15.62786365\n",
      " 26.78444593 22.8202423  21.50171635 21.20811141 18.94186952 36.8474457\n",
      " 19.59622555 13.55392364 20.54262449 15.993827   13.00605053 17.67104568\n",
      " 19.41190933 26.68394755 22.78923143 21.95014711 15.62661735 16.23858769\n",
      " 21.23077639 22.70770713 22.39580888 16.69350499 24.87775966 20.35251246\n",
      " 19.02744273 17.36070812 24.0581244  18.16752283 18.9979899  24.81506534\n",
      " 22.97915726 26.16249345 18.68586878 26.0577817  22.38766751 15.14233832\n",
      " 19.6728268  25.14289759 23.54987842 21.60729393 24.77181547 19.83368122\n",
      " 22.83780056 19.72516823 22.45325622 25.72035893 22.23600808 20.03136764\n",
      " 23.72527596 15.40250705 22.83130732 22.11089023 17.98796943 19.77601495\n",
      " 21.5589045  22.8459938  22.33095624 14.72289405 21.33397607 15.12116375\n",
      " 22.23956675 24.64422823 21.42589661 22.79104264 15.31795716 15.44431227\n",
      " 26.02882085 25.57850849 19.33353666 18.63729714 22.95932806 18.23618118\n",
      " 20.21839349 20.48705439 22.24663081 17.68190122 17.39716494 13.19003495\n",
      "  8.27309142 22.1266411  12.40370904 20.49093509 17.43333168 26.62388482\n",
      " 16.98809652 23.39788358 19.52591318 20.49240817 28.78512407 24.2313464\n",
      " 17.74031391 25.10259854 20.16485752 19.81887876 16.59973464 18.36734362\n",
      " 27.14172439 20.77992681 24.77134381 18.45326845 18.08100644 24.2250075\n",
      " 19.22347507 21.17516038 18.84609332 21.98539489 25.81553473 19.23337362\n",
      " 27.20994535 24.71250629 26.1841302  19.71800324 25.25604881 20.22993073\n",
      " 17.40966116 22.52660377 20.90076502 16.32630817 19.16554084 16.88303895\n",
      " 15.18641317 23.8697722  29.89280618 25.2234913  20.96817676 16.00492741\n",
      " 17.30602176 14.25115606 26.53623995 15.19876866 25.71910695 25.91252355\n",
      " 20.82828169 23.06639708  7.57150432 21.28316268 23.32044934 10.74855548\n",
      " 11.02663844 19.90854633 29.4151962  24.93302489 19.15053179 21.78502822\n",
      " 23.07389956 15.4815855  15.91470735 21.08191827 15.2791011  22.41374919\n",
      " 15.76472727 16.62646309 17.88925886 23.26959342 22.2418957  17.9144122\n",
      " 18.02007546 22.43208714 18.23565846 16.11881019 33.15922129 22.38893059\n",
      " 19.30178213 24.35010071 25.96379956 21.87736616 18.84108739 14.56471325\n",
      " 22.82087182 27.24737629 14.59789098 25.87327211 15.06086665 29.29921754\n",
      " 15.97759096 18.06952627 14.75908716 20.87563229 29.64188937 19.91986554\n",
      " 32.65154481 24.85590931 18.8531885  20.67352216 27.6282818  21.44301541\n",
      " 26.90157848 23.23310709 14.88524669 15.93558524 29.10841121 20.28736288\n",
      " 26.06571188 26.44001399 33.10588826 16.15298346 16.34189171 20.62922037\n",
      " 17.43863874 15.976949   24.17543386 20.19151935 23.72162146 26.39964388]\n"
     ]
    }
   ],
   "source": [
    "#10\n",
    "r =np.ravel(norm)\n",
    "print(r)"
   ]
  },
  {
   "cell_type": "code",
   "execution_count": 122,
   "metadata": {},
   "outputs": [
    {
     "name": "stdout",
     "output_type": "stream",
     "text": [
      "[22.42868191 14.43784319 16.71990106 23.82245634 14.51004473 21.76360099\n",
      " 20.02045606 17.92416618 16.42096307 23.82217058 18.6529764  24.83851912\n",
      " 23.35329211 19.29354151 23.44936695 21.74847338 21.84806209 25.88653521\n",
      " 32.91262178 26.85495619 23.25069685 25.81096949 25.27571802 20.26286815\n",
      " 18.07332547 25.87627935 21.5053492  22.75430529 21.65823285 20.37614333\n",
      " 11.60806194 28.21922266 16.94295411 21.04926057 16.85247782 18.42468852\n",
      " 16.19438333 15.839831   13.75759489 15.21133995 14.44980029 22.48683905\n",
      " 20.2803798  17.59427803 26.92596047 24.45163496 23.26781644 18.81686785\n",
      " 10.18228422 23.46914467 13.36894137 25.16152409 20.16523884 28.19812583\n",
      " 26.67305456 26.79162292 15.75183245 21.90875748 26.04563021 19.3131455\n",
      " 26.33725471 25.59891869 17.8464247  18.63395232 16.46921528 11.7730746\n",
      " 17.93479071 21.37711044 24.06156117 15.65930905 17.65444857 15.3988907\n",
      " 24.53235411 20.61544212 16.6278126  18.25654703 22.4582727  18.26542716\n",
      " 21.2064803  22.30491011 27.47989058 23.49742194 14.07588379 24.05630286\n",
      " 18.23005543 23.27742905 15.89375381 16.77087875 17.23036713 25.23106965\n",
      " 11.97506839 17.93227357 19.05593664 29.63549642 20.01552032 20.66280056\n",
      " 20.0288771  25.87839057 22.70202115 22.19325747 23.49383476 23.52540241\n",
      " 25.05680336 22.09035604 25.4218073  27.37435816 23.88978884 19.43674322\n",
      " 20.91775426 21.60903218 17.48199751 19.91331008 20.30779329 21.0417147\n",
      " 24.87541619 19.55439234 11.90074627 18.531663   26.62740517 15.62786365\n",
      " 26.78444593 22.8202423  21.50171635 21.20811141 18.94186952 36.8474457\n",
      " 19.59622555 13.55392364 20.54262449 15.993827   13.00605053 17.67104568\n",
      " 19.41190933 26.68394755 22.78923143 21.95014711 15.62661735 16.23858769\n",
      " 21.23077639 22.70770713 22.39580888 16.69350499 24.87775966 20.35251246\n",
      " 19.02744273 17.36070812 24.0581244  18.16752283 18.9979899  24.81506534\n",
      " 22.97915726 26.16249345 18.68586878 26.0577817  22.38766751 15.14233832\n",
      " 19.6728268  25.14289759 23.54987842 21.60729393 24.77181547 19.83368122\n",
      " 22.83780056 19.72516823 22.45325622 25.72035893 22.23600808 20.03136764\n",
      " 23.72527596 15.40250705 22.83130732 22.11089023 17.98796943 19.77601495\n",
      " 21.5589045  22.8459938  22.33095624 14.72289405 21.33397607 15.12116375\n",
      " 22.23956675 24.64422823 21.42589661 22.79104264 15.31795716 15.44431227\n",
      " 26.02882085 25.57850849 19.33353666 18.63729714 22.95932806 18.23618118\n",
      " 20.21839349 20.48705439 22.24663081 17.68190122 17.39716494 13.19003495\n",
      "  8.27309142 22.1266411  12.40370904 20.49093509 17.43333168 26.62388482\n",
      " 16.98809652 23.39788358 19.52591318 20.49240817 28.78512407 24.2313464\n",
      " 17.74031391 25.10259854 20.16485752 19.81887876 16.59973464 18.36734362\n",
      " 27.14172439 20.77992681 24.77134381 18.45326845 18.08100644 24.2250075\n",
      " 19.22347507 21.17516038 18.84609332 21.98539489 25.81553473 19.23337362\n",
      " 27.20994535 24.71250629 26.1841302  19.71800324 25.25604881 20.22993073\n",
      " 17.40966116 22.52660377 20.90076502 16.32630817 19.16554084 16.88303895\n",
      " 15.18641317 23.8697722  29.89280618 25.2234913  20.96817676 16.00492741\n",
      " 17.30602176 14.25115606 26.53623995 15.19876866 25.71910695 25.91252355\n",
      " 20.82828169 23.06639708  7.57150432 21.28316268 23.32044934 10.74855548\n",
      " 11.02663844 19.90854633 29.4151962  24.93302489 19.15053179 21.78502822\n",
      " 23.07389956 15.4815855  15.91470735 21.08191827 15.2791011  22.41374919\n",
      " 15.76472727 16.62646309 17.88925886 23.26959342 22.2418957  17.9144122\n",
      " 18.02007546 22.43208714 18.23565846 16.11881019 33.15922129 22.38893059\n",
      " 19.30178213 24.35010071 25.96379956 21.87736616 18.84108739 14.56471325\n",
      " 22.82087182 27.24737629 14.59789098 25.87327211 15.06086665 29.29921754\n",
      " 15.97759096 18.06952627 14.75908716 20.87563229 29.64188937 19.91986554\n",
      " 32.65154481 24.85590931 18.8531885  20.67352216 27.6282818  21.44301541\n",
      " 26.90157848 23.23310709 14.88524669 15.93558524 29.10841121 20.28736288\n",
      " 26.06571188 26.44001399 33.10588826 16.15298346 16.34189171 20.62922037\n",
      " 17.43863874 15.976949   24.17543386 20.19151935 23.72162146 26.39964388]\n"
     ]
    }
   ],
   "source": [
    "#11\n",
    "idx = np.where((r < 15) & (r > 26))\n",
    "new_r=np.delete(r,idx)\n",
    "print(new_r)"
   ]
  },
  {
   "cell_type": "code",
   "execution_count": 127,
   "metadata": {},
   "outputs": [
    {
     "name": "stdout",
     "output_type": "stream",
     "text": [
      "[ 0.         14.43784319  0.          0.         14.51004473  0.\n",
      "  0.          0.          0.          0.          0.          0.\n",
      "  0.          0.          0.          0.          0.          0.\n",
      " 32.91262178 26.85495619  0.          0.          0.          0.\n",
      "  0.          0.          0.          0.          0.          0.\n",
      " 11.60806194 28.21922266  0.          0.          0.          0.\n",
      "  0.          0.         13.75759489  0.         14.44980029  0.\n",
      "  0.          0.         26.92596047  0.          0.          0.\n",
      " 10.18228422  0.         13.36894137  0.          0.         28.19812583\n",
      " 26.67305456 26.79162292  0.          0.         26.04563021  0.\n",
      " 26.33725471  0.          0.          0.          0.         11.7730746\n",
      "  0.          0.          0.          0.          0.          0.\n",
      "  0.          0.          0.          0.          0.          0.\n",
      "  0.          0.         27.47989058  0.         14.07588379  0.\n",
      "  0.          0.          0.          0.          0.          0.\n",
      " 11.97506839  0.          0.         29.63549642  0.          0.\n",
      "  0.          0.          0.          0.          0.          0.\n",
      "  0.          0.          0.         27.37435816  0.          0.\n",
      "  0.          0.          0.          0.          0.          0.\n",
      "  0.          0.         11.90074627  0.         26.62740517  0.\n",
      " 26.78444593  0.          0.          0.          0.         36.8474457\n",
      "  0.         13.55392364  0.          0.         13.00605053  0.\n",
      "  0.         26.68394755  0.          0.          0.          0.\n",
      "  0.          0.          0.          0.          0.          0.\n",
      "  0.          0.          0.          0.          0.          0.\n",
      "  0.         26.16249345  0.         26.0577817   0.          0.\n",
      "  0.          0.          0.          0.          0.          0.\n",
      "  0.          0.          0.          0.          0.          0.\n",
      "  0.          0.          0.          0.          0.          0.\n",
      "  0.          0.          0.         14.72289405  0.          0.\n",
      "  0.          0.          0.          0.          0.          0.\n",
      " 26.02882085  0.          0.          0.          0.          0.\n",
      "  0.          0.          0.          0.          0.         13.19003495\n",
      "  8.27309142  0.         12.40370904  0.          0.         26.62388482\n",
      "  0.          0.          0.          0.         28.78512407  0.\n",
      "  0.          0.          0.          0.          0.          0.\n",
      " 27.14172439  0.          0.          0.          0.          0.\n",
      "  0.          0.          0.          0.          0.          0.\n",
      " 27.20994535  0.         26.1841302   0.          0.          0.\n",
      "  0.          0.          0.          0.          0.          0.\n",
      "  0.          0.         29.89280618  0.          0.          0.\n",
      "  0.         14.25115606 26.53623995  0.          0.          0.\n",
      "  0.          0.          7.57150432  0.          0.         10.74855548\n",
      " 11.02663844  0.         29.4151962   0.          0.          0.\n",
      "  0.          0.          0.          0.          0.          0.\n",
      "  0.          0.          0.          0.          0.          0.\n",
      "  0.          0.          0.          0.         33.15922129  0.\n",
      "  0.          0.          0.          0.          0.         14.56471325\n",
      "  0.         27.24737629 14.59789098  0.          0.         29.29921754\n",
      "  0.          0.         14.75908716  0.         29.64188937  0.\n",
      " 32.65154481  0.          0.          0.         27.6282818   0.\n",
      " 26.90157848  0.         14.88524669  0.         29.10841121  0.\n",
      " 26.06571188 26.44001399 33.10588826  0.          0.          0.\n",
      "  0.          0.          0.          0.          0.         26.39964388]\n"
     ]
    }
   ],
   "source": [
    "# 12\n",
    "clip_func = np.clip(r, a_min = 15, a_max = 26)\n",
    "r[r == clip_func] = 'NaN'\n",
    "print(r)\n"
   ]
  },
  {
   "cell_type": "code",
   "execution_count": 128,
   "metadata": {},
   "outputs": [
    {
     "name": "stdout",
     "output_type": "stream",
     "text": [
      "Sum  1417.6722044842172\n"
     ]
    }
   ],
   "source": [
    "#13\n",
    "print(\"Sum \",np.nansum(r))"
   ]
  },
  {
   "cell_type": "code",
   "execution_count": 126,
   "metadata": {},
   "outputs": [
    {
     "name": "stdout",
     "output_type": "stream",
     "text": [
      "[ 0.         14.43784319  0.          0.         14.51004473  0.\n",
      "  0.          0.          0.          0.          0.          0.\n",
      "  0.          0.          0.          0.          0.          0.\n",
      " 32.91262178 26.85495619  0.          0.          0.          0.\n",
      "  0.          0.          0.          0.          0.          0.\n",
      " 11.60806194 28.21922266  0.          0.          0.          0.\n",
      "  0.          0.         13.75759489  0.         14.44980029  0.\n",
      "  0.          0.         26.92596047  0.          0.          0.\n",
      " 10.18228422  0.         13.36894137  0.          0.         28.19812583\n",
      " 26.67305456 26.79162292  0.          0.         26.04563021  0.\n",
      " 26.33725471  0.          0.          0.          0.         11.7730746\n",
      "  0.          0.          0.          0.          0.          0.\n",
      "  0.          0.          0.          0.          0.          0.\n",
      "  0.          0.         27.47989058  0.         14.07588379  0.\n",
      "  0.          0.          0.          0.          0.          0.\n",
      " 11.97506839  0.          0.         29.63549642  0.          0.\n",
      "  0.          0.          0.          0.          0.          0.\n",
      "  0.          0.          0.         27.37435816  0.          0.\n",
      "  0.          0.          0.          0.          0.          0.\n",
      "  0.          0.         11.90074627  0.         26.62740517  0.\n",
      " 26.78444593  0.          0.          0.          0.         36.8474457\n",
      "  0.         13.55392364  0.          0.         13.00605053  0.\n",
      "  0.         26.68394755  0.          0.          0.          0.\n",
      "  0.          0.          0.          0.          0.          0.\n",
      "  0.          0.          0.          0.          0.          0.\n",
      "  0.         26.16249345  0.         26.0577817   0.          0.\n",
      "  0.          0.          0.          0.          0.          0.\n",
      "  0.          0.          0.          0.          0.          0.\n",
      "  0.          0.          0.          0.          0.          0.\n",
      "  0.          0.          0.         14.72289405  0.          0.\n",
      "  0.          0.          0.          0.          0.          0.\n",
      " 26.02882085  0.          0.          0.          0.          0.\n",
      "  0.          0.          0.          0.          0.         13.19003495\n",
      "  8.27309142  0.         12.40370904  0.          0.         26.62388482\n",
      "  0.          0.          0.          0.         28.78512407  0.\n",
      "  0.          0.          0.          0.          0.          0.\n",
      " 27.14172439  0.          0.          0.          0.          0.\n",
      "  0.          0.          0.          0.          0.          0.\n",
      " 27.20994535  0.         26.1841302   0.          0.          0.\n",
      "  0.          0.          0.          0.          0.          0.\n",
      "  0.          0.         29.89280618  0.          0.          0.\n",
      "  0.         14.25115606 26.53623995  0.          0.          0.\n",
      "  0.          0.          7.57150432  0.          0.         10.74855548\n",
      " 11.02663844  0.         29.4151962   0.          0.          0.\n",
      "  0.          0.          0.          0.          0.          0.\n",
      "  0.          0.          0.          0.          0.          0.\n",
      "  0.          0.          0.          0.         33.15922129  0.\n",
      "  0.          0.          0.          0.          0.         14.56471325\n",
      "  0.         27.24737629 14.59789098  0.          0.         29.29921754\n",
      "  0.          0.         14.75908716  0.         29.64188937  0.\n",
      " 32.65154481  0.          0.          0.         27.6282818   0.\n",
      " 26.90157848  0.         14.88524669  0.         29.10841121  0.\n",
      " 26.06571188 26.44001399 33.10588826  0.          0.          0.\n",
      "  0.          0.          0.          0.          0.         26.39964388]\n"
     ]
    }
   ],
   "source": [
    "#14\n",
    "result = r\n",
    "res = np.nan_to_num(result,0) \n",
    "print(res)"
   ]
  },
  {
   "cell_type": "code",
   "execution_count": 129,
   "metadata": {},
   "outputs": [
    {
     "name": "stdout",
     "output_type": "stream",
     "text": [
      "[ 0.         14.43784319  0.          0.         14.51004473  0.\n",
      "  0.          0.          0.          0.          0.          0.\n",
      "  0.          0.          0.          0.          0.          0.\n",
      " 32.91262178 26.85495619  0.          0.          0.          0.\n",
      "  0.          0.          0.          0.          0.          0.\n",
      " 11.60806194 28.21922266  0.          0.          0.          0.\n",
      "  0.          0.         13.75759489  0.         14.44980029  0.\n",
      "  0.          0.         26.92596047  0.          0.          0.\n",
      " 10.18228422  0.         13.36894137  0.          0.         28.19812583\n",
      " 26.67305456 26.79162292  0.          0.         26.04563021  0.\n",
      " 26.33725471  0.          0.          0.          0.         11.7730746\n",
      "  0.          0.          0.          0.          0.          0.\n",
      "  0.          0.          0.          0.          0.          0.\n",
      "  0.          0.         27.47989058  0.         14.07588379  0.\n",
      "  0.          0.          0.          0.          0.          0.\n",
      " 11.97506839  0.          0.         29.63549642  0.          0.\n",
      "  0.          0.          0.          0.          0.          0.\n",
      "  0.          0.          0.         27.37435816  0.          0.\n",
      "  0.          0.          0.          0.          0.          0.\n",
      "  0.          0.         11.90074627  0.         26.62740517  0.\n",
      " 26.78444593  0.          0.          0.          0.         36.8474457\n",
      "  0.         13.55392364  0.          0.         13.00605053  0.\n",
      "  0.         26.68394755  0.          0.          0.          0.\n",
      "  0.          0.          0.          0.          0.          0.\n",
      "  0.          0.          0.          0.          0.          0.\n",
      "  0.         26.16249345  0.         26.0577817   0.          0.\n",
      "  0.          0.          0.          0.          0.          0.\n",
      "  0.          0.          0.          0.          0.          0.\n",
      "  0.          0.          0.          0.          0.          0.\n",
      "  0.          0.          0.         14.72289405  0.          0.\n",
      "  0.          0.          0.          0.          0.          0.\n",
      " 26.02882085  0.          0.          0.          0.          0.\n",
      "  0.          0.          0.          0.          0.         13.19003495\n",
      "  8.27309142  0.         12.40370904  0.          0.         26.62388482\n",
      "  0.          0.          0.          0.         28.78512407  0.\n",
      "  0.          0.          0.          0.          0.          0.\n",
      " 27.14172439  0.          0.          0.          0.          0.\n",
      "  0.          0.          0.          0.          0.          0.\n",
      " 27.20994535  0.         26.1841302   0.          0.          0.\n",
      "  0.          0.          0.          0.          0.          0.\n",
      "  0.          0.         29.89280618  0.          0.          0.\n",
      "  0.         14.25115606 26.53623995  0.          0.          0.\n",
      "  0.          0.          7.57150432  0.          0.         10.74855548\n",
      " 11.02663844  0.         29.4151962   0.          0.          0.\n",
      "  0.          0.          0.          0.          0.          0.\n",
      "  0.          0.          0.          0.          0.          0.\n",
      "  0.          0.          0.          0.         33.15922129  0.\n",
      "  0.          0.          0.          0.          0.         14.56471325\n",
      "  0.         27.24737629 14.59789098  0.          0.         29.29921754\n",
      "  0.          0.         14.75908716  0.         29.64188937  0.\n",
      " 32.65154481  0.          0.          0.         27.6282818   0.\n",
      " 26.90157848  0.         14.88524669  0.         29.10841121  0.\n",
      " 26.06571188 26.44001399 33.10588826  0.          0.          0.\n",
      "  0.          0.          0.          0.          0.         26.39964388]\n"
     ]
    }
   ],
   "source": [
    "#15\n",
    "np.save('lab10.npy', res)\n",
    "f = np.load('lab10.npy')\n",
    "print(f)"
   ]
  },
  {
   "cell_type": "code",
   "execution_count": null,
   "metadata": {},
   "outputs": [],
   "source": []
  }
 ],
 "metadata": {
  "kernelspec": {
   "display_name": "Python 3 (ipykernel)",
   "language": "python",
   "name": "python3"
  },
  "language_info": {
   "codemirror_mode": {
    "name": "ipython",
    "version": 3
   },
   "file_extension": ".py",
   "mimetype": "text/x-python",
   "name": "python",
   "nbconvert_exporter": "python",
   "pygments_lexer": "ipython3",
   "version": "3.9.13"
  }
 },
 "nbformat": 4,
 "nbformat_minor": 1
}
