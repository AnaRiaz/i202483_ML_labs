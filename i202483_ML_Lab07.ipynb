{
 "cells": [
  {
   "cell_type": "markdown",
   "id": "f2513ed8",
   "metadata": {},
   "source": [
    "### TASK \n"
   ]
  },
  {
   "cell_type": "code",
   "execution_count": 11,
   "id": "8aa17e38",
   "metadata": {},
   "outputs": [],
   "source": [
    "import numpy as np"
   ]
  },
  {
   "cell_type": "code",
   "execution_count": 12,
   "id": "7ef6fb9b",
   "metadata": {},
   "outputs": [],
   "source": [
    "P = \"I love Mangoes mangoes are a lot tastier than other fruits I like mangoes because they are good Apples are good too but I prefer mangoes People say mango is the king of fruit so that is why mangoes are good mangoes are good because they are juicy\"\n",
    "N = \"Eating too many Mangoes can have a negative impact on your health mangoes are good but not too good, I like apples more than mangoes I don’t like mangoes because they are expensive Mangoes are not good I don’t like mangoes\""
   ]
  },
  {
   "cell_type": "code",
   "execution_count": 13,
   "id": "bdf6fcd9",
   "metadata": {},
   "outputs": [],
   "source": [
    "P = P.lower()\n",
    "N = N.lower()\n",
    "Positive = P.split()\n",
    "Negative = N.split()"
   ]
  },
  {
   "cell_type": "code",
   "execution_count": 14,
   "id": "7107dd7c",
   "metadata": {},
   "outputs": [],
   "source": [
    "combined = Positive + Negative"
   ]
  },
  {
   "cell_type": "code",
   "execution_count": 15,
   "id": "86308baa",
   "metadata": {},
   "outputs": [],
   "source": [
    "vocab = np.unique(combined)  # words occuring both in positive and negative sentences\n",
    "VLength = len(vocab)         # count of vocab"
   ]
  },
  {
   "cell_type": "code",
   "execution_count": 16,
   "id": "fdbdfc68",
   "metadata": {},
   "outputs": [],
   "source": [
    "PLength = len(Positive)\n",
    "NLength = len(Negative)"
   ]
  },
  {
   "cell_type": "code",
   "execution_count": 29,
   "id": "0c254d18",
   "metadata": {},
   "outputs": [],
   "source": [
    "# function to calculate probablity of words\n",
    "PosProb = {}\n",
    "NegProb = {}\n",
    "def WordsProb(vocab, Pos, Neg,VLength ):    \n",
    "    for i in vocab:\n",
    "        word_in_Pos = 0\n",
    "        word_in_Neg = 0 \n",
    "        for p in Pos:\n",
    "            if i == p:\n",
    "                \n",
    "                word_in_Pos += 1\n",
    "                \n",
    "        for n in Neg:\n",
    "            if i==n:\n",
    "                \n",
    "                word_in_Neg += 1\n",
    "                \n",
    "        PosProb[i] = ((word_in_Pos + 1) / (PLength + VLength))\n",
    "        NegProb[i] = ((word_in_Neg + 1) / (NLength + VLength))\n",
    "    print (\"Prob of words in Positive:\\n\\n\",PosProb, \"\\n\\nProb of words in Negative:\\n\\n\",NegProb, \"\\n\\n\")"
   ]
  },
  {
   "cell_type": "code",
   "execution_count": 41,
   "id": "6119916c",
   "metadata": {},
   "outputs": [
    {
     "name": "stdout",
     "output_type": "stream",
     "text": [
      "Prob of words in Positive:\n",
      "\n",
      " {'a': 0.021739130434782608, 'apples': 0.021739130434782608, 'are': 0.07608695652173914, 'because': 0.03260869565217391, 'but': 0.021739130434782608, 'can': 0.010869565217391304, 'don’t': 0.010869565217391304, 'eating': 0.010869565217391304, 'expensive': 0.010869565217391304, 'fruit': 0.021739130434782608, 'fruits': 0.021739130434782608, 'good': 0.05434782608695652, 'good,': 0.010869565217391304, 'have': 0.010869565217391304, 'health': 0.010869565217391304, 'i': 0.043478260869565216, 'impact': 0.010869565217391304, 'is': 0.03260869565217391, 'juicy': 0.021739130434782608, 'king': 0.021739130434782608, 'like': 0.021739130434782608, 'lot': 0.021739130434782608, 'love': 0.021739130434782608, 'mango': 0.021739130434782608, 'mangoes': 0.07608695652173914, 'many': 0.010869565217391304, 'more': 0.010869565217391304, 'negative': 0.010869565217391304, 'not': 0.010869565217391304, 'of': 0.021739130434782608, 'on': 0.010869565217391304, 'other': 0.021739130434782608, 'people': 0.021739130434782608, 'prefer': 0.021739130434782608, 'say': 0.021739130434782608, 'so': 0.021739130434782608, 'tastier': 0.021739130434782608, 'than': 0.021739130434782608, 'that': 0.021739130434782608, 'the': 0.021739130434782608, 'they': 0.03260869565217391, 'too': 0.021739130434782608, 'why': 0.021739130434782608, 'your': 0.010869565217391304, 'bitter': 0.010869565217391304} \n",
      "\n",
      "Prob of words in Negative:\n",
      "\n",
      " {'a': 0.023529411764705882, 'apples': 0.023529411764705882, 'are': 0.047058823529411764, 'because': 0.023529411764705882, 'but': 0.023529411764705882, 'can': 0.023529411764705882, 'don’t': 0.03529411764705882, 'eating': 0.023529411764705882, 'expensive': 0.023529411764705882, 'fruit': 0.011764705882352941, 'fruits': 0.011764705882352941, 'good': 0.03529411764705882, 'good,': 0.023529411764705882, 'have': 0.023529411764705882, 'health': 0.023529411764705882, 'i': 0.047058823529411764, 'impact': 0.023529411764705882, 'is': 0.011764705882352941, 'juicy': 0.011764705882352941, 'king': 0.011764705882352941, 'like': 0.047058823529411764, 'lot': 0.011764705882352941, 'love': 0.011764705882352941, 'mango': 0.011764705882352941, 'mangoes': 0.08235294117647059, 'many': 0.023529411764705882, 'more': 0.023529411764705882, 'negative': 0.023529411764705882, 'not': 0.03529411764705882, 'of': 0.011764705882352941, 'on': 0.023529411764705882, 'other': 0.011764705882352941, 'people': 0.011764705882352941, 'prefer': 0.011764705882352941, 'say': 0.011764705882352941, 'so': 0.011764705882352941, 'tastier': 0.011764705882352941, 'than': 0.023529411764705882, 'that': 0.011764705882352941, 'the': 0.011764705882352941, 'they': 0.023529411764705882, 'too': 0.03529411764705882, 'why': 0.011764705882352941, 'your': 0.023529411764705882, 'bitter': 0.011764705882352941} \n",
      "\n",
      "\n"
     ]
    }
   ],
   "source": [
    "WordsProb (vocab, Positive, Negative, VLength)"
   ]
  },
  {
   "cell_type": "code",
   "execution_count": 42,
   "id": "948adfc4",
   "metadata": {},
   "outputs": [],
   "source": [
    "def Prob_words_Not_Existing (vocab,pos,neg,VLength):\n",
    "    PosProb.update({vocab:(1)/(PLength + VLength)})\n",
    "    NegProb.update({vocab:(1)/(NLength + VLength)})"
   ]
  },
  {
   "cell_type": "code",
   "execution_count": 53,
   "id": "e573bb19",
   "metadata": {},
   "outputs": [
    {
     "name": "stdout",
     "output_type": "stream",
     "text": [
      "hate Not Found in Vocabulary\n",
      "And it's Probablity is: 0.010869565217391304 \n",
      "\n",
      "things Not Found in Vocabulary\n",
      "And it's Probablity is: 0.010869565217391304 \n",
      "\n",
      "\n",
      "Probablity of Positives 0.00021499839045505597\n",
      "Probablity of Negatives 0.00027355994300834517 \n",
      "\n",
      "\n",
      "Test Sentence is NEGATIVE\n"
     ]
    }
   ],
   "source": [
    "test = \"i hate things\"\n",
    "test = test.split()\n",
    "PositiveProb = []\n",
    "NegativeProb = []\n",
    "for i in test:\n",
    "    if i in vocab:\n",
    "        PositiveProb.append(PosProb[i])\n",
    "        NegativeProb.append(NegProb[i])\n",
    "    else:\n",
    "        Prob_words_Not_Existing(i,Positive,Negative,VLength)\n",
    "        print(i, \"Not Found in Vocabulary\")\n",
    "        print(\"And it's Probablity is:\",PosProb[i] , \"\\n\")\n",
    "        PositiveProb.append(PosProb[i])\n",
    "        NegativeProb.append(NegProb[i]) \n",
    "P_of_Neg = NLength/PLength+NLength\n",
    "P_of_Pos = PLength/PLength+NLength\n",
    "\n",
    "P1= P_of_Neg* np.prod(PositiveProb)\n",
    "P2= P_of_Pos* np.prod(NegativeProb)\n",
    "print('\\nProbablity of Positives',P1)\n",
    "print('Probablity of Negatives',P2, \"\\n\\n\")\n",
    "if P1 > P2:\n",
    "    print(\"Test Sentence is POSITIVE\")\n",
    "else:\n",
    "    print(\"Test Sentence is NEGATIVE\")"
   ]
  }
 ],
 "metadata": {
  "kernelspec": {
   "display_name": "Python 3",
   "language": "python",
   "name": "python3"
  }
 },
 "nbformat": 4,
 "nbformat_minor": 5
}
