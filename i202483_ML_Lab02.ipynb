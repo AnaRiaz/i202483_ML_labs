{
 "cells": [
  {
   "cell_type": "markdown",
   "id": "8ce1c123",
   "metadata": {},
   "source": [
    "#### oop concepts"
   ]
  },
  {
   "cell_type": "code",
   "execution_count": 4,
   "id": "c231f0df",
   "metadata": {},
   "outputs": [],
   "source": [
    "class uni:\n",
    "    def __init__(self,name,loc):\n",
    "        self.name=name\n",
    "        self.loc=loc\n",
    "        \n",
    "    def display(self):\n",
    "        print (f\"University name is {self.name} and location is {self.loc}\")\n",
    "    \n",
    "class dept (uni):\n",
    "    def __init__(self,dname,programs,u_name,u_loc): #constructor of child class that \n",
    "                                                  #initilizes the variables of the parent class\n",
    "        super().__init__(u_name,u_loc)            #\n",
    "        self.dname=dname\n",
    "        # if the parent and child class have same vaiable names then the compiler gives priority\n",
    "        # to the child class nd considers the value jo child waley variable mein pari hoti hai\n",
    "        self.programs=programs\n",
    "    def display(self):\n",
    "        print (f\"University name is {self.name} and location is {self.loc}\")p\n",
    "        print(f\"The department name is {self.dname} with {self.programs} programs\")\n",
    "        "
   ]
  },
  {
   "cell_type": "code",
   "execution_count": 6,
   "id": "b33960ae",
   "metadata": {},
   "outputs": [
    {
     "name": "stdout",
     "output_type": "stream",
     "text": [
      "The department name is AI with 5 programs\n"
     ]
    }
   ],
   "source": [
    "# obj1 = uni(\"Fast\",\"isb\")\n",
    "# obj1.display()\n",
    "obj2= dept(\"AI\",\"5\",\"Fast\",\"Isb\")\n",
    "obj2.display()"
   ]
  },
  {
   "cell_type": "code",
   "execution_count": null,
   "id": "3594fce1",
   "metadata": {},
   "outputs": [],
   "source": [
    "# protected: _name (single underscore before the variable name)\n",
    "# privte: __name (double underscore)"
   ]
  },
  {
   "cell_type": "markdown",
   "id": "2f19b206",
   "metadata": {},
   "source": [
    "### Task 1"
   ]
  },
  {
   "cell_type": "code",
   "execution_count": 56,
   "id": "33a7f029",
   "metadata": {},
   "outputs": [],
   "source": [
    "class class1:\n",
    "    def __init__(self,string):\n",
    "        self.string = string\n",
    "    def countStr(self):\n",
    "        count = 0\n",
    "        for word in range(len(self.string)):\n",
    "            if len(self.string[word])>=2:\n",
    "                if(self.string[word][0] == self.string[word][-1]):\n",
    "                    count += 1\n",
    "        return count"
   ]
  },
  {
   "cell_type": "code",
   "execution_count": 59,
   "id": "b053f90a",
   "metadata": {},
   "outputs": [
    {
     "data": {
      "text/plain": [
       "2"
      ]
     },
     "execution_count": 59,
     "metadata": {},
     "output_type": "execute_result"
    }
   ],
   "source": [
    "list1 = ['anna','python','write','neon','c','ranchers']\n",
    "s1 = class1(list1)\n",
    "s1.countStr()"
   ]
  },
  {
   "cell_type": "markdown",
   "id": "20337c78",
   "metadata": {},
   "source": [
    "### Task 2"
   ]
  },
  {
   "cell_type": "code",
   "execution_count": 155,
   "id": "e5d100ea",
   "metadata": {},
   "outputs": [
    {
     "name": "stdout",
     "output_type": "stream",
     "text": [
      "['Ape', 'bluff', 'crap', 'pasta', 'test']\n"
     ]
    }
   ],
   "source": [
    "list2 = ['crap', 'x-rays', 'test', 'Ape','pasta', 'x-mas','bluff']\n",
    "for i in list2:\n",
    "    if i[0:1]=='x':\n",
    "        list2.remove(i)\n",
    "for i in list2:\n",
    "    list2.sort()\n",
    "print(list2)"
   ]
  },
  {
   "cell_type": "markdown",
   "id": "2ed0af5f",
   "metadata": {},
   "source": [
    "### Task 03"
   ]
  },
  {
   "cell_type": "code",
   "execution_count": 161,
   "id": "38457e6a",
   "metadata": {},
   "outputs": [
    {
     "name": "stdout",
     "output_type": "stream",
     "text": [
      "[(0, 7), (4, 8), (2, 9)]\n"
     ]
    }
   ],
   "source": [
    "tup =[(0, 7), (2, 9), (4, 8)]\n",
    "for i in range(0, len(tup)):   \n",
    "    for j in range(0, (len(tup)-i-1)):   \n",
    "        if (tup[j][-1] > tup[j + 1][-1]):\n",
    "            temp=tup[j] \n",
    "            tup[j]= tup[j + 1] \n",
    "            tup[j + 1] = temp\n",
    "print(tup)"
   ]
  },
  {
   "cell_type": "markdown",
   "id": "6a3e21a6",
   "metadata": {},
   "source": [
    "### Task 04"
   ]
  },
  {
   "cell_type": "code",
   "execution_count": 162,
   "id": "d6e2d086",
   "metadata": {},
   "outputs": [
    {
     "name": "stdout",
     "output_type": "stream",
     "text": [
      "[1, 2]\n"
     ]
    }
   ],
   "source": [
    "numbers = [1,2,2]\n",
    "newlist=[]\n",
    "l=len(numbers)\n",
    "for i in range(0,(l-1)):\n",
    "   \n",
    "    if numbers[i] != numbers[i+1]:\n",
    "        newlist.append(numbers[i])\n",
    "print(newlist)"
   ]
  },
  {
   "cell_type": "markdown",
   "id": "a96aa3e0",
   "metadata": {},
   "source": [
    "### Task 05"
   ]
  },
  {
   "cell_type": "code",
   "execution_count": 166,
   "id": "8645dcfb",
   "metadata": {},
   "outputs": [
    {
     "name": "stdout",
     "output_type": "stream",
     "text": [
      "[1, 2, 3, 4, 4, 5, 8, 9]\n"
     ]
    }
   ],
   "source": [
    "list1 = [1,4,5,8]\n",
    "list2 = [2,3,4,9]\n",
    "list3 = list1+list2\n",
    "for i in list3:\n",
    "    list3.sort()\n",
    "print(list3)"
   ]
  },
  {
   "cell_type": "markdown",
   "id": "3f127c60",
   "metadata": {},
   "source": [
    "### CSV Tasks"
   ]
  },
  {
   "cell_type": "code",
   "execution_count": 3,
   "id": "d677386b",
   "metadata": {},
   "outputs": [],
   "source": [
    "import pandas as pd\n",
    "import numpy as np"
   ]
  },
  {
   "cell_type": "code",
   "execution_count": 4,
   "id": "71f28175",
   "metadata": {},
   "outputs": [],
   "source": [
    "df = pd.read_csv(\"C:\\\\Users\\\\admin\\\\Downloads\\\\drinks.csv\")"
   ]
  },
  {
   "cell_type": "markdown",
   "id": "20e74365",
   "metadata": {},
   "source": [
    "#### Task 1"
   ]
  },
  {
   "cell_type": "code",
   "execution_count": 5,
   "id": "a40d00c6",
   "metadata": {},
   "outputs": [
    {
     "name": "stdout",
     "output_type": "stream",
     "text": [
      "193\n"
     ]
    }
   ],
   "source": [
    "print(len(df.index))"
   ]
  },
  {
   "cell_type": "markdown",
   "id": "67a5b4e3",
   "metadata": {},
   "source": [
    "#### Task 2"
   ]
  },
  {
   "cell_type": "code",
   "execution_count": 6,
   "id": "60c92e6f",
   "metadata": {},
   "outputs": [
    {
     "data": {
      "text/html": [
       "<div>\n",
       "<style scoped>\n",
       "    .dataframe tbody tr th:only-of-type {\n",
       "        vertical-align: middle;\n",
       "    }\n",
       "\n",
       "    .dataframe tbody tr th {\n",
       "        vertical-align: top;\n",
       "    }\n",
       "\n",
       "    .dataframe thead th {\n",
       "        text-align: right;\n",
       "    }\n",
       "</style>\n",
       "<table border=\"1\" class=\"dataframe\">\n",
       "  <thead>\n",
       "    <tr style=\"text-align: right;\">\n",
       "      <th></th>\n",
       "      <th>country</th>\n",
       "      <th>beer_servings</th>\n",
       "      <th>spirit_servings</th>\n",
       "      <th>wine_servings</th>\n",
       "      <th>total_litres_of_pure_alcohol</th>\n",
       "      <th>continent</th>\n",
       "    </tr>\n",
       "  </thead>\n",
       "  <tbody>\n",
       "    <tr>\n",
       "      <th>0</th>\n",
       "      <td>Afghanistan</td>\n",
       "      <td>0</td>\n",
       "      <td>0</td>\n",
       "      <td>0</td>\n",
       "      <td>0.0</td>\n",
       "      <td>AS</td>\n",
       "    </tr>\n",
       "    <tr>\n",
       "      <th>1</th>\n",
       "      <td>Albania</td>\n",
       "      <td>89</td>\n",
       "      <td>132</td>\n",
       "      <td>54</td>\n",
       "      <td>4.9</td>\n",
       "      <td>EU</td>\n",
       "    </tr>\n",
       "    <tr>\n",
       "      <th>2</th>\n",
       "      <td>Algeria</td>\n",
       "      <td>25</td>\n",
       "      <td>0</td>\n",
       "      <td>14</td>\n",
       "      <td>0.7</td>\n",
       "      <td>AF</td>\n",
       "    </tr>\n",
       "    <tr>\n",
       "      <th>3</th>\n",
       "      <td>Andorra</td>\n",
       "      <td>245</td>\n",
       "      <td>138</td>\n",
       "      <td>312</td>\n",
       "      <td>12.4</td>\n",
       "      <td>EU</td>\n",
       "    </tr>\n",
       "    <tr>\n",
       "      <th>4</th>\n",
       "      <td>Angola</td>\n",
       "      <td>217</td>\n",
       "      <td>57</td>\n",
       "      <td>45</td>\n",
       "      <td>5.9</td>\n",
       "      <td>AF</td>\n",
       "    </tr>\n",
       "    <tr>\n",
       "      <th>...</th>\n",
       "      <td>...</td>\n",
       "      <td>...</td>\n",
       "      <td>...</td>\n",
       "      <td>...</td>\n",
       "      <td>...</td>\n",
       "      <td>...</td>\n",
       "    </tr>\n",
       "    <tr>\n",
       "      <th>188</th>\n",
       "      <td>Venezuela</td>\n",
       "      <td>333</td>\n",
       "      <td>100</td>\n",
       "      <td>3</td>\n",
       "      <td>7.7</td>\n",
       "      <td>SA</td>\n",
       "    </tr>\n",
       "    <tr>\n",
       "      <th>189</th>\n",
       "      <td>Vietnam</td>\n",
       "      <td>111</td>\n",
       "      <td>2</td>\n",
       "      <td>1</td>\n",
       "      <td>2.0</td>\n",
       "      <td>AS</td>\n",
       "    </tr>\n",
       "    <tr>\n",
       "      <th>190</th>\n",
       "      <td>Yemen</td>\n",
       "      <td>6</td>\n",
       "      <td>0</td>\n",
       "      <td>0</td>\n",
       "      <td>0.1</td>\n",
       "      <td>AS</td>\n",
       "    </tr>\n",
       "    <tr>\n",
       "      <th>191</th>\n",
       "      <td>Zambia</td>\n",
       "      <td>32</td>\n",
       "      <td>19</td>\n",
       "      <td>4</td>\n",
       "      <td>2.5</td>\n",
       "      <td>AF</td>\n",
       "    </tr>\n",
       "    <tr>\n",
       "      <th>192</th>\n",
       "      <td>Zimbabwe</td>\n",
       "      <td>64</td>\n",
       "      <td>18</td>\n",
       "      <td>4</td>\n",
       "      <td>4.7</td>\n",
       "      <td>AF</td>\n",
       "    </tr>\n",
       "  </tbody>\n",
       "</table>\n",
       "<p>170 rows × 6 columns</p>\n",
       "</div>"
      ],
      "text/plain": [
       "         country  beer_servings  spirit_servings  wine_servings  \\\n",
       "0    Afghanistan              0                0              0   \n",
       "1        Albania             89              132             54   \n",
       "2        Algeria             25                0             14   \n",
       "3        Andorra            245              138            312   \n",
       "4         Angola            217               57             45   \n",
       "..           ...            ...              ...            ...   \n",
       "188    Venezuela            333              100              3   \n",
       "189      Vietnam            111                2              1   \n",
       "190        Yemen              6                0              0   \n",
       "191       Zambia             32               19              4   \n",
       "192     Zimbabwe             64               18              4   \n",
       "\n",
       "     total_litres_of_pure_alcohol continent  \n",
       "0                             0.0        AS  \n",
       "1                             4.9        EU  \n",
       "2                             0.7        AF  \n",
       "3                            12.4        EU  \n",
       "4                             5.9        AF  \n",
       "..                            ...       ...  \n",
       "188                           7.7        SA  \n",
       "189                           2.0        AS  \n",
       "190                           0.1        AS  \n",
       "191                           2.5        AF  \n",
       "192                           4.7        AF  \n",
       "\n",
       "[170 rows x 6 columns]"
      ]
     },
     "execution_count": 6,
     "metadata": {},
     "output_type": "execute_result"
    }
   ],
   "source": [
    "no_nans = df.dropna(axis = 0, inplace = False)\n",
    "no_nans\n"
   ]
  },
  {
   "cell_type": "markdown",
   "id": "88fa0919",
   "metadata": {},
   "source": [
    "#### Task 3"
   ]
  },
  {
   "cell_type": "code",
   "execution_count": 7,
   "id": "b77ecc23",
   "metadata": {},
   "outputs": [],
   "source": [
    "def Print_ColumnName(col):\n",
    "    content = df.loc[:,col]\n",
    "    print(content)\n"
   ]
  },
  {
   "cell_type": "code",
   "execution_count": 8,
   "id": "a4799a0e",
   "metadata": {},
   "outputs": [
    {
     "name": "stdout",
     "output_type": "stream",
     "text": [
      "Enter Column Name: country\n",
      "0      Afghanistan\n",
      "1          Albania\n",
      "2          Algeria\n",
      "3          Andorra\n",
      "4           Angola\n",
      "          ...     \n",
      "188      Venezuela\n",
      "189        Vietnam\n",
      "190          Yemen\n",
      "191         Zambia\n",
      "192       Zimbabwe\n",
      "Name: country, Length: 193, dtype: object\n"
     ]
    }
   ],
   "source": [
    "col = input(\"Enter Column Name: \")\n",
    "Print_ColumnName (col)"
   ]
  },
  {
   "cell_type": "markdown",
   "id": "df0ab96e",
   "metadata": {},
   "source": [
    "#### Task 4"
   ]
  },
  {
   "cell_type": "code",
   "execution_count": 9,
   "id": "69fc9e9d",
   "metadata": {},
   "outputs": [],
   "source": [
    "import matplotlib.pyplot as plt"
   ]
  },
  {
   "cell_type": "code",
   "execution_count": 10,
   "id": "0e0cb542",
   "metadata": {},
   "outputs": [
    {
     "data": {
      "text/plain": [
       "array([[<AxesSubplot:title={'center':'beer_servings'}>,\n",
       "        <AxesSubplot:title={'center':'spirit_servings'}>],\n",
       "       [<AxesSubplot:title={'center':'wine_servings'}>,\n",
       "        <AxesSubplot:title={'center':'total_litres_of_pure_alcohol'}>]],\n",
       "      dtype=object)"
      ]
     },
     "execution_count": 10,
     "metadata": {},
     "output_type": "execute_result"
    },
    {
     "data": {
      "image/png": "[encoded data removed]",
      "text/plain": [
       "<Figure size 432x288 with 4 Axes>"
      ]
     },
     "metadata": {
      "needs_background": "light"
     },
     "output_type": "display_data"
    }
   ],
   "source": [
    "df.hist()"
   ]
  },
  {
   "cell_type": "markdown",
   "id": "e3462fde",
   "metadata": {},
   "source": [
    "#### Task 5"
   ]
  },
  {
   "cell_type": "code",
   "execution_count": 11,
   "id": "23ee162a",
   "metadata": {},
   "outputs": [
    {
     "name": "stdout",
     "output_type": "stream",
     "text": [
      "<matplotlib.collections.PathCollection object at 0x00000255819F9280>\n"
     ]
    },
    {
     "data": {
      "image/png": "[encoded data removed]",
      "text/plain": [
       "<Figure size 432x288 with 1 Axes>"
      ]
     },
     "metadata": {
      "needs_background": "light"
     },
     "output_type": "display_data"
    },
    {
     "data": {
      "image/png": "[encoded data removed]",
      "text/plain": [
       "<Figure size 432x288 with 1 Axes>"
      ]
     },
     "metadata": {
      "needs_background": "light"
     },
     "output_type": "display_data"
    }
   ],
   "source": [
    "img = plt.scatter(df.country, df.spirit_servings)\n",
    "print(img)\n",
    "x1 = df['beer_servings']\n",
    "x2 = df['wine_servings']\n",
    "x3 = df['spirit_servings']\n",
    "matplot = plt.figure().gca(projection='3d')\n",
    "matplot.scatter(x1,x2,x3)\n",
    "matplot.set_xlabel('Beer Servings')\n",
    "matplot.set_ylabel('Wine servings')\n",
    "matplot.set_zlabel('Spirit Servings')\n",
    "plt.show()"
   ]
  },
  {
   "cell_type": "markdown",
   "id": "6e36ad08",
   "metadata": {},
   "source": [
    "#### Task 6"
   ]
  },
  {
   "cell_type": "code",
   "execution_count": 12,
   "id": "ebdd94ef",
   "metadata": {},
   "outputs": [
    {
     "name": "stdout",
     "output_type": "stream",
     "text": [
      "([<matplotlib.patches.Wedge object at 0x00000255820E5520>, <matplotlib.patches.Wedge object at 0x00000255820E5A00>, <matplotlib.patches.Wedge object at 0x00000255820E5E80>, <matplotlib.patches.Wedge object at 0x00000255820F1340>, <matplotlib.patches.Wedge object at 0x00000255820F17C0>], [Text(1.1, 0.0, 'Afghanistan'), Text(0.9729271141436313, 0.5132375966003908, 'Albania'), Text(0.49189111051407675, 0.9838918311467113, 'Algeria'), Text(-0.9309403356178203, 0.5859608276325134, 'Andorra'), Text(0.4154025884498296, -1.0185483245821878, 'Angola')])\n"
     ]
    },
    {
     "data": {
      "image/png": "[encoded data removed]",
      "text/plain": [
       "<Figure size 720x504 with 1 Axes>"
      ]
     },
     "metadata": {},
     "output_type": "display_data"
    },
    {
     "data": {
      "image/png": "[encoded data removed]",
      "text/plain": [
       "<Figure size 576x288 with 1 Axes>"
      ]
     },
     "metadata": {
      "needs_background": "light"
     },
     "output_type": "display_data"
    },
    {
     "name": "stdout",
     "output_type": "stream",
     "text": [
      "None\n"
     ]
    }
   ],
   "source": [
    "country = df['country'].head(5)\n",
    "beer = df ['beer_servings'].head(5)\n",
    "fig = plt.figure(figsize =(10, 7))\n",
    "print(plt.pie(beer, labels = country))\n",
    "figure = plt.figure(figsize = (8, 4))\n",
    "plt.bar(beer, country, color ='green', width = 5.9)\n",
    "plt.ylabel(\"Country\")\n",
    "plt.xlabel(\"Beer Servings\")\n",
    "plt.title(\"Beer Servings vs countries\")\n",
    "print(plt.show())"
   ]
  }
 ],
 "metadata": {
  "kernelspec": {
   "display_name": "Python 3",
   "language": "python",
   "name": "python3"
  },
  "language_info": {
   "codemirror_mode": {
    "name": "ipython",
    "version": 3
   },
   "file_extension": ".py",
   "mimetype": "text/x-python",
   "name": "python",
   "nbconvert_exporter": "python",
   "pygments_lexer": "ipython3",
   "version": "3.8.8"
  }
 },
 "nbformat": 4,
 "nbformat_minor": 5
}
