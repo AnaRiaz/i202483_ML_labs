{
 "cells": [
  {
   "cell_type": "markdown",
   "id": "cd9fee34",
   "metadata": {},
   "source": [
    "## TASK 01"
   ]
  },
  {
   "cell_type": "code",
   "execution_count": 1,
   "id": "bae15ff9",
   "metadata": {},
   "outputs": [],
   "source": [
    "from sklearn import datasets\n",
    "from sklearn.decomposition import PCA\n",
    "import pandas as pd"
   ]
  },
  {
   "cell_type": "code",
   "execution_count": 2,
   "id": "fc127bb4",
   "metadata": {
    "scrolled": true
   },
   "outputs": [
    {
     "name": "stdout",
     "output_type": "stream",
     "text": [
      "\n",
      "SAMPLE SPACE:\n",
      "\n",
      " ['WWW', 'WWR', 'WWB', 'WRW', 'WRR', 'WRB', 'WBW', 'WBR', 'WBB', 'RWW', 'RWR', 'RWB', 'RRW', 'RRR', 'RRB', 'RBW', 'RBR', 'RBB', 'BWW', 'BWR', 'BWB', 'BRW', 'BRR', 'BRB', 'BBW', 'BBR', 'BBB']\n"
     ]
    }
   ],
   "source": [
    "#creating the sample space\n",
    "balls = ['W','R','B']\n",
    "index1 = \"\"\n",
    "index2 = \"\"\n",
    "index3 = \"\"\n",
    "sample = []\n",
    "for a in balls:\n",
    "    index1 = \"\"\n",
    "    index1 += a\n",
    "    index3 = index1\n",
    "    for b in balls:\n",
    "        index1 = index3\n",
    "        index1 += b\n",
    "        index2 = index1\n",
    "        for c in balls:\n",
    "            index1 = index2\n",
    "            index1 += c\n",
    "            sample.append(index1)\n",
    "print(\"\\nSAMPLE SPACE:\\n\\n\", sample)"
   ]
  },
  {
   "cell_type": "code",
   "execution_count": 3,
   "id": "502c50c3",
   "metadata": {},
   "outputs": [
    {
     "name": "stdout",
     "output_type": "stream",
     "text": [
      "W W W\n",
      "W B B\n",
      "W R R\n",
      "W W W\n",
      "W B B\n",
      "R R R\n",
      "R W W\n",
      "R B B\n",
      "R R R\n",
      "B W W\n",
      "B B B\n",
      "B R R\n",
      "B W W\n",
      "B B B\n",
      "['WWR', 'WRW', 'WRB', 'WBR', 'RWW', 'RWB', 'RRR', 'RBW', 'RBB', 'BWR', 'BRW', 'BRB', 'BBR']\n"
     ]
    }
   ],
   "source": [
    "for s in sample:\n",
    "    col1 = \"\"\n",
    "    col2 = \"\"\n",
    "    col3 = \"\"\n",
    "    col1 = s[0]\n",
    "    col2 = s[1]\n",
    "    col3 = s[-1]\n",
    "    print(col1,col3,col3)\n",
    "    if ((col1 == col2) or (col2 == col3) or (col1 == col3)):\n",
    "        sample.remove(s)\n",
    "print(sample)"
   ]
  },
  {
   "cell_type": "code",
   "execution_count": 4,
   "id": "e83b959b",
   "metadata": {},
   "outputs": [
    {
     "name": "stdout",
     "output_type": "stream",
     "text": [
      "\n",
      "nCr =  455\n"
     ]
    }
   ],
   "source": [
    "def factorial(n):\n",
    "    f = 1\n",
    "    while(n>0):\n",
    "        f *= n\n",
    "        n -= 1\n",
    "    return f\n",
    "def Calculate_nCr (n, r):\n",
    "    #nCr = n!/ r!.(n-r)!\n",
    "    nCr = int(factorial(n) / (factorial(r)*factorial(n-r))) \n",
    "    return nCr\n",
    "result = Calculate_nCr(15,3)\n",
    "print(\"\\nnCr = \",result)"
   ]
  },
  {
   "cell_type": "code",
   "execution_count": 5,
   "id": "3b17ec0f",
   "metadata": {},
   "outputs": [
    {
     "name": "stdout",
     "output_type": "stream",
     "text": [
      "\n",
      "Colors  ------> ['WWR', 'WRW', 'WRB', 'WBR', 'RWW', 'RWB', 'RRR', 'RBW', 'RBB', 'BWR', 'BRW', 'BRB', 'BBR'] \n",
      "\n",
      "Indiuidual Counts  ------> [[2, 1, 0], [2, 1, 0], [1, 1, 1], [1, 1, 1], [2, 1, 0], [1, 1, 1], [0, 3, 0], [1, 1, 1], [0, 1, 2], [1, 1, 1], [1, 1, 1], [0, 1, 2], [0, 1, 2]]\n"
     ]
    }
   ],
   "source": [
    "arr1 = []\n",
    "arr2 = []\n",
    "obs = len(sample)\n",
    "for s in range(0,obs):\n",
    "    white = 0\n",
    "    red   = 0\n",
    "    blue  = 0\n",
    "    arr1.append(sample[s])\n",
    "    for j in range(0,3):\n",
    "        if(sample[s][j] == 'W'):\n",
    "            white += 1\n",
    "        if(sample[s][j] == 'R'):\n",
    "            red   += 1\n",
    "        if(sample[s][j] == 'B'):\n",
    "            blue  += 1\n",
    "    ballCount = ([white,red,blue])\n",
    "    arr2.append(ballCount)\n",
    "print(\"\\nColors  ------>\",arr1,\"\\n\\nIndiuidual Counts  ------>\" , arr2)"
   ]
  },
  {
   "cell_type": "code",
   "execution_count": 6,
   "id": "2e53aae8",
   "metadata": {},
   "outputs": [
    {
     "name": "stdout",
     "output_type": "stream",
     "text": [
      "The Optimal Color Scheme would be:  WRB\n"
     ]
    }
   ],
   "source": [
    "probabilities =[]\n",
    "for i in range(0,len(arr2)):\n",
    "    white = arr2[i][0]\n",
    "    red = arr2[i][1]\n",
    "    blue = arr2[i][2]\n",
    "    prob = ((Calculate_nCr(6,white))*(Calculate_nCr(4,red))*(Calculate_nCr(5,blue))/result)\n",
    "    probabilities.append(prob)\n",
    "opt = probabilities.index(max(probabilities))\n",
    "print(\"The Optimal Color Scheme would be: \", arr1[opt])"
   ]
  },
  {
   "cell_type": "markdown",
   "id": "dd6b2106",
   "metadata": {},
   "source": [
    "## BONUS TASK"
   ]
  },
  {
   "cell_type": "code",
   "execution_count": 12,
   "id": "331303f9",
   "metadata": {},
   "outputs": [
    {
     "name": "stdout",
     "output_type": "stream",
     "text": [
      "Area(8 in' Pizza) =  50.27\n",
      "Area(2-5 in' Pizza) =  39.27\n"
     ]
    }
   ],
   "source": [
    "import math\n",
    "area1 = math.pi * (pow(4,2))\n",
    "print(\"Area(8 in' Pizza) = \", round(area1,2))\n",
    "area2 = 2* (math.pi * (pow(5/2,2)))\n",
    "print(\"Area(2-5 in' Pizza) = \", round(area2,2))\n",
    " "
   ]
  },
  {
   "cell_type": "markdown",
   "id": "add35e9f",
   "metadata": {},
   "source": [
    "###### 2-5 incher pizzas wouldnt be a wise choice because they serve less under the same price as an 8 incher "
   ]
  },
  {
   "cell_type": "code",
   "execution_count": null,
   "id": "d75ac2c5",
   "metadata": {},
   "outputs": [],
   "source": []
  }
 ],
 "metadata": {
  "kernelspec": {
   "display_name": "Python 3",
   "language": "python",
   "name": "python3"
  },
  "language_info": {
   "codemirror_mode": {
    "name": "ipython",
    "version": 3
   },
   "file_extension": ".py",
   "mimetype": "text/x-python",
   "name": "python",
   "nbconvert_exporter": "python",
   "pygments_lexer": "ipython3",
   "version": "3.8.8"
  }
 },
 "nbformat": 4,
 "nbformat_minor": 5
}
